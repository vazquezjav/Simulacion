{
 "cells": [
  {
   "cell_type": "markdown",
   "id": "b75d9f3b",
   "metadata": {},
   "source": [
    "\n",
    "<center><img src=\"https://pure.ups.edu.ec/skin/headerImage/\" width=\"300\" height=\"300\"></center>"
   ]
  },
  {
   "cell_type": "markdown",
   "id": "3965794c",
   "metadata": {},
   "source": [
    "<h1><center>Universidad Politecnica Salesiana</center></h1>\n",
    "<h2><center>Modelo Regresion</center></h2>\n",
    "\n",
    "\n",
    "<b>Nombre: </b> Javier Vazquez\n",
    "\n",
    "<b>Materia: </b> Simulacion\n",
    "\n"
   ]
  },
  {
   "cell_type": "code",
   "execution_count": 1,
   "id": "6925c1fe",
   "metadata": {},
   "outputs": [],
   "source": [
    "import pandas as pd"
   ]
  },
  {
   "cell_type": "markdown",
   "id": "d0ed7a3d",
   "metadata": {},
   "source": [
    "#### Carga de datos del archivo 'post_Guillermo.csv'\n",
    "\n",
    "* Al momento de realizar el crawler, existen tweets que no cuentan con mucho tiempo de haber sido publicados por ende no cuentan con reacciones, comentarios o compartidos por lo que llenamos esos valores con '0'"
   ]
  },
  {
   "cell_type": "code",
   "execution_count": 2,
   "id": "97e9e6b4",
   "metadata": {},
   "outputs": [
    {
     "data": {
      "text/html": [
       "<div>\n",
       "<style scoped>\n",
       "    .dataframe tbody tr th:only-of-type {\n",
       "        vertical-align: middle;\n",
       "    }\n",
       "\n",
       "    .dataframe tbody tr th {\n",
       "        vertical-align: top;\n",
       "    }\n",
       "\n",
       "    .dataframe thead th {\n",
       "        text-align: right;\n",
       "    }\n",
       "</style>\n",
       "<table border=\"1\" class=\"dataframe\">\n",
       "  <thead>\n",
       "    <tr style=\"text-align: right;\">\n",
       "      <th></th>\n",
       "      <th>nombre</th>\n",
       "      <th>username</th>\n",
       "      <th>contenido</th>\n",
       "      <th>comentarios</th>\n",
       "      <th>reacciones</th>\n",
       "      <th>compartido</th>\n",
       "    </tr>\n",
       "  </thead>\n",
       "  <tbody>\n",
       "    <tr>\n",
       "      <th>0</th>\n",
       "      <td>Guillermo Lasso</td>\n",
       "      <td>@LassoGuillermo</td>\n",
       "      <td>·Primeros pasos del #PlanVacunación9100. Es un...</td>\n",
       "      <td>57</td>\n",
       "      <td>731</td>\n",
       "      <td>146</td>\n",
       "    </tr>\n",
       "    <tr>\n",
       "      <th>1</th>\n",
       "      <td>Guillermo Lasso</td>\n",
       "      <td>@LassoGuillermo</td>\n",
       "      <td>·El #PlanVacunación9100 es \\n\\nSALUD\\nBIENESTA...</td>\n",
       "      <td>61</td>\n",
       "      <td>920</td>\n",
       "      <td>199</td>\n",
       "    </tr>\n",
       "    <tr>\n",
       "      <th>2</th>\n",
       "      <td>Guillermo Lasso</td>\n",
       "      <td>@LassoGuillermo</td>\n",
       "      <td>·¡Sé parte del #PlanVacunación9100! Acudamos d...</td>\n",
       "      <td>49</td>\n",
       "      <td>756</td>\n",
       "      <td>266</td>\n",
       "    </tr>\n",
       "    <tr>\n",
       "      <th>3</th>\n",
       "      <td>Ministerio de Educación del Ecuador</td>\n",
       "      <td>@Educacion_Ec</td>\n",
       "      <td>·#JuntosLoLogramos   En el #DíaDelEstudiante, ...</td>\n",
       "      <td>49</td>\n",
       "      <td>438</td>\n",
       "      <td>115</td>\n",
       "    </tr>\n",
       "    <tr>\n",
       "      <th>4</th>\n",
       "      <td>Guillermo Lasso</td>\n",
       "      <td>@LassoGuillermo</td>\n",
       "      <td>·¡Felicidades @MorejonGlenda! Ella y más depor...</td>\n",
       "      <td>98</td>\n",
       "      <td>3.8K</td>\n",
       "      <td>620</td>\n",
       "    </tr>\n",
       "    <tr>\n",
       "      <th>...</th>\n",
       "      <td>...</td>\n",
       "      <td>...</td>\n",
       "      <td>...</td>\n",
       "      <td>...</td>\n",
       "      <td>...</td>\n",
       "      <td>...</td>\n",
       "    </tr>\n",
       "    <tr>\n",
       "      <th>303</th>\n",
       "      <td>Guillermo Lasso</td>\n",
       "      <td>@LassoGuillermo</td>\n",
       "      <td>·Tendremos Centros de Reparación Integral para...</td>\n",
       "      <td>13</td>\n",
       "      <td>283</td>\n",
       "      <td>68</td>\n",
       "    </tr>\n",
       "    <tr>\n",
       "      <th>304</th>\n",
       "      <td>Guillermo Lasso</td>\n",
       "      <td>@LassoGuillermo</td>\n",
       "      <td>·Fortaleceremos los espacios para las mujeres ...</td>\n",
       "      <td>10</td>\n",
       "      <td>276</td>\n",
       "      <td>61</td>\n",
       "    </tr>\n",
       "    <tr>\n",
       "      <th>305</th>\n",
       "      <td>Guillermo Lasso</td>\n",
       "      <td>@LassoGuillermo</td>\n",
       "      <td>·Promoveremos la conciliación de la vida famil...</td>\n",
       "      <td>41</td>\n",
       "      <td>438</td>\n",
       "      <td>124</td>\n",
       "    </tr>\n",
       "    <tr>\n",
       "      <th>306</th>\n",
       "      <td>Guillermo Lasso</td>\n",
       "      <td>@LassoGuillermo</td>\n",
       "      <td>·Implementaremos mecanismos de protección, den...</td>\n",
       "      <td>38</td>\n",
       "      <td>441</td>\n",
       "      <td>127</td>\n",
       "    </tr>\n",
       "    <tr>\n",
       "      <th>307</th>\n",
       "      <td>Guillermo Lasso</td>\n",
       "      <td>@LassoGuillermo</td>\n",
       "      <td>·Encontrémonos para luchar contra la violencia...</td>\n",
       "      <td>48</td>\n",
       "      <td>515</td>\n",
       "      <td>161</td>\n",
       "    </tr>\n",
       "  </tbody>\n",
       "</table>\n",
       "<p>308 rows × 6 columns</p>\n",
       "</div>"
      ],
      "text/plain": [
       "                                  nombre         username  \\\n",
       "0                        Guillermo Lasso  @LassoGuillermo   \n",
       "1                        Guillermo Lasso  @LassoGuillermo   \n",
       "2                        Guillermo Lasso  @LassoGuillermo   \n",
       "3    Ministerio de Educación del Ecuador    @Educacion_Ec   \n",
       "4                        Guillermo Lasso  @LassoGuillermo   \n",
       "..                                   ...              ...   \n",
       "303                      Guillermo Lasso  @LassoGuillermo   \n",
       "304                      Guillermo Lasso  @LassoGuillermo   \n",
       "305                      Guillermo Lasso  @LassoGuillermo   \n",
       "306                      Guillermo Lasso  @LassoGuillermo   \n",
       "307                      Guillermo Lasso  @LassoGuillermo   \n",
       "\n",
       "                                             contenido comentarios reacciones  \\\n",
       "0    ·Primeros pasos del #PlanVacunación9100. Es un...          57        731   \n",
       "1    ·El #PlanVacunación9100 es \\n\\nSALUD\\nBIENESTA...          61        920   \n",
       "2    ·¡Sé parte del #PlanVacunación9100! Acudamos d...          49        756   \n",
       "3    ·#JuntosLoLogramos   En el #DíaDelEstudiante, ...          49        438   \n",
       "4    ·¡Felicidades @MorejonGlenda! Ella y más depor...          98       3.8K   \n",
       "..                                                 ...         ...        ...   \n",
       "303  ·Tendremos Centros de Reparación Integral para...          13        283   \n",
       "304  ·Fortaleceremos los espacios para las mujeres ...          10        276   \n",
       "305  ·Promoveremos la conciliación de la vida famil...          41        438   \n",
       "306  ·Implementaremos mecanismos de protección, den...          38        441   \n",
       "307  ·Encontrémonos para luchar contra la violencia...          48        515   \n",
       "\n",
       "    compartido  \n",
       "0          146  \n",
       "1          199  \n",
       "2          266  \n",
       "3          115  \n",
       "4          620  \n",
       "..         ...  \n",
       "303         68  \n",
       "304         61  \n",
       "305        124  \n",
       "306        127  \n",
       "307        161  \n",
       "\n",
       "[308 rows x 6 columns]"
      ]
     },
     "execution_count": 2,
     "metadata": {},
     "output_type": "execute_result"
    }
   ],
   "source": [
    "df = pd.read_csv('post_Guillermo.csv')\n",
    "df.fillna(0)\n",
    "df"
   ]
  },
  {
   "cell_type": "markdown",
   "id": "6466c92c",
   "metadata": {},
   "source": [
    "* En cualquiera de las redes sociales siempre existen abreviaturas para expresar la cantidad de reacciones, comentarios o compartidos, como 2000 comentarios abreviando a 2k por lo que este formato nos imposibilita trabajar con el modelo de regresión, por lo que se procede a cambiar estos valores mediante una tanto para cualquier columna del dataframe que necesite. "
   ]
  },
  {
   "cell_type": "code",
   "execution_count": 3,
   "id": "4a1b876b",
   "metadata": {},
   "outputs": [],
   "source": [
    "def convert_str_to_number(x):\n",
    "    total_stars = 0\n",
    "    num_map = {'K':1000, 'M':1000000, 'B':1000000000}\n",
    "        \n",
    "    if not x.isdigit():\n",
    "        if len(x) > 1:\n",
    "            total_stars = float(x[:-1]) * num_map.get(x[-1].upper(), 1)\n",
    "    else:\n",
    "        total_stars = int(x)\n",
    "    return int(total_stars)"
   ]
  },
  {
   "cell_type": "markdown",
   "id": "961a83db",
   "metadata": {},
   "source": [
    "### Procesamiento\n",
    "* Para obtener cuantos hastag existe dentro de un post, se comparo mediante la libreria 're' podemos contabilizar la cantidad de hastag dentro del post\n",
    "* Contabilizar el numero de palabras se hizo uso de un split mediante separador de espacio \n",
    "* Finalmente se cambia los formatos de la cantidad de comentarios, reacciones y compartidos de un tweet"
   ]
  },
  {
   "cell_type": "code",
   "execution_count": 4,
   "id": "ca18d637",
   "metadata": {},
   "outputs": [
    {
     "data": {
      "text/html": [
       "<div>\n",
       "<style scoped>\n",
       "    .dataframe tbody tr th:only-of-type {\n",
       "        vertical-align: middle;\n",
       "    }\n",
       "\n",
       "    .dataframe tbody tr th {\n",
       "        vertical-align: top;\n",
       "    }\n",
       "\n",
       "    .dataframe thead th {\n",
       "        text-align: right;\n",
       "    }\n",
       "</style>\n",
       "<table border=\"1\" class=\"dataframe\">\n",
       "  <thead>\n",
       "    <tr style=\"text-align: right;\">\n",
       "      <th></th>\n",
       "      <th>nombre</th>\n",
       "      <th>username</th>\n",
       "      <th>contenido</th>\n",
       "      <th>comentarios</th>\n",
       "      <th>reacciones</th>\n",
       "      <th>compartido</th>\n",
       "      <th>hastag</th>\n",
       "      <th>num_palabras</th>\n",
       "    </tr>\n",
       "  </thead>\n",
       "  <tbody>\n",
       "    <tr>\n",
       "      <th>0</th>\n",
       "      <td>Guillermo Lasso</td>\n",
       "      <td>@LassoGuillermo</td>\n",
       "      <td>·Primeros pasos del #PlanVacunación9100. Es un...</td>\n",
       "      <td>57</td>\n",
       "      <td>731</td>\n",
       "      <td>146</td>\n",
       "      <td>2</td>\n",
       "      <td>26</td>\n",
       "    </tr>\n",
       "    <tr>\n",
       "      <th>1</th>\n",
       "      <td>Guillermo Lasso</td>\n",
       "      <td>@LassoGuillermo</td>\n",
       "      <td>·El #PlanVacunación9100 es \\n\\nSALUD\\nBIENESTA...</td>\n",
       "      <td>61</td>\n",
       "      <td>920</td>\n",
       "      <td>199</td>\n",
       "      <td>2</td>\n",
       "      <td>17</td>\n",
       "    </tr>\n",
       "    <tr>\n",
       "      <th>2</th>\n",
       "      <td>Guillermo Lasso</td>\n",
       "      <td>@LassoGuillermo</td>\n",
       "      <td>·¡Sé parte del #PlanVacunación9100! Acudamos d...</td>\n",
       "      <td>49</td>\n",
       "      <td>756</td>\n",
       "      <td>266</td>\n",
       "      <td>2</td>\n",
       "      <td>33</td>\n",
       "    </tr>\n",
       "    <tr>\n",
       "      <th>3</th>\n",
       "      <td>Ministerio de Educación del Ecuador</td>\n",
       "      <td>@Educacion_Ec</td>\n",
       "      <td>·#JuntosLoLogramos   En el #DíaDelEstudiante, ...</td>\n",
       "      <td>49</td>\n",
       "      <td>438</td>\n",
       "      <td>115</td>\n",
       "      <td>2</td>\n",
       "      <td>33</td>\n",
       "    </tr>\n",
       "    <tr>\n",
       "      <th>4</th>\n",
       "      <td>Guillermo Lasso</td>\n",
       "      <td>@LassoGuillermo</td>\n",
       "      <td>·¡Felicidades @MorejonGlenda! Ella y más depor...</td>\n",
       "      <td>98</td>\n",
       "      <td>3800</td>\n",
       "      <td>620</td>\n",
       "      <td>4</td>\n",
       "      <td>59</td>\n",
       "    </tr>\n",
       "    <tr>\n",
       "      <th>...</th>\n",
       "      <td>...</td>\n",
       "      <td>...</td>\n",
       "      <td>...</td>\n",
       "      <td>...</td>\n",
       "      <td>...</td>\n",
       "      <td>...</td>\n",
       "      <td>...</td>\n",
       "      <td>...</td>\n",
       "    </tr>\n",
       "    <tr>\n",
       "      <th>303</th>\n",
       "      <td>Guillermo Lasso</td>\n",
       "      <td>@LassoGuillermo</td>\n",
       "      <td>·Tendremos Centros de Reparación Integral para...</td>\n",
       "      <td>13</td>\n",
       "      <td>283</td>\n",
       "      <td>68</td>\n",
       "      <td>1</td>\n",
       "      <td>32</td>\n",
       "    </tr>\n",
       "    <tr>\n",
       "      <th>304</th>\n",
       "      <td>Guillermo Lasso</td>\n",
       "      <td>@LassoGuillermo</td>\n",
       "      <td>·Fortaleceremos los espacios para las mujeres ...</td>\n",
       "      <td>10</td>\n",
       "      <td>276</td>\n",
       "      <td>61</td>\n",
       "      <td>1</td>\n",
       "      <td>22</td>\n",
       "    </tr>\n",
       "    <tr>\n",
       "      <th>305</th>\n",
       "      <td>Guillermo Lasso</td>\n",
       "      <td>@LassoGuillermo</td>\n",
       "      <td>·Promoveremos la conciliación de la vida famil...</td>\n",
       "      <td>41</td>\n",
       "      <td>438</td>\n",
       "      <td>124</td>\n",
       "      <td>1</td>\n",
       "      <td>38</td>\n",
       "    </tr>\n",
       "    <tr>\n",
       "      <th>306</th>\n",
       "      <td>Guillermo Lasso</td>\n",
       "      <td>@LassoGuillermo</td>\n",
       "      <td>·Implementaremos mecanismos de protección, den...</td>\n",
       "      <td>38</td>\n",
       "      <td>441</td>\n",
       "      <td>127</td>\n",
       "      <td>1</td>\n",
       "      <td>39</td>\n",
       "    </tr>\n",
       "    <tr>\n",
       "      <th>307</th>\n",
       "      <td>Guillermo Lasso</td>\n",
       "      <td>@LassoGuillermo</td>\n",
       "      <td>·Encontrémonos para luchar contra la violencia...</td>\n",
       "      <td>48</td>\n",
       "      <td>515</td>\n",
       "      <td>161</td>\n",
       "      <td>1</td>\n",
       "      <td>37</td>\n",
       "    </tr>\n",
       "  </tbody>\n",
       "</table>\n",
       "<p>308 rows × 8 columns</p>\n",
       "</div>"
      ],
      "text/plain": [
       "                                  nombre         username  \\\n",
       "0                        Guillermo Lasso  @LassoGuillermo   \n",
       "1                        Guillermo Lasso  @LassoGuillermo   \n",
       "2                        Guillermo Lasso  @LassoGuillermo   \n",
       "3    Ministerio de Educación del Ecuador    @Educacion_Ec   \n",
       "4                        Guillermo Lasso  @LassoGuillermo   \n",
       "..                                   ...              ...   \n",
       "303                      Guillermo Lasso  @LassoGuillermo   \n",
       "304                      Guillermo Lasso  @LassoGuillermo   \n",
       "305                      Guillermo Lasso  @LassoGuillermo   \n",
       "306                      Guillermo Lasso  @LassoGuillermo   \n",
       "307                      Guillermo Lasso  @LassoGuillermo   \n",
       "\n",
       "                                             contenido  comentarios  \\\n",
       "0    ·Primeros pasos del #PlanVacunación9100. Es un...           57   \n",
       "1    ·El #PlanVacunación9100 es \\n\\nSALUD\\nBIENESTA...           61   \n",
       "2    ·¡Sé parte del #PlanVacunación9100! Acudamos d...           49   \n",
       "3    ·#JuntosLoLogramos   En el #DíaDelEstudiante, ...           49   \n",
       "4    ·¡Felicidades @MorejonGlenda! Ella y más depor...           98   \n",
       "..                                                 ...          ...   \n",
       "303  ·Tendremos Centros de Reparación Integral para...           13   \n",
       "304  ·Fortaleceremos los espacios para las mujeres ...           10   \n",
       "305  ·Promoveremos la conciliación de la vida famil...           41   \n",
       "306  ·Implementaremos mecanismos de protección, den...           38   \n",
       "307  ·Encontrémonos para luchar contra la violencia...           48   \n",
       "\n",
       "     reacciones  compartido  hastag  num_palabras  \n",
       "0           731         146       2            26  \n",
       "1           920         199       2            17  \n",
       "2           756         266       2            33  \n",
       "3           438         115       2            33  \n",
       "4          3800         620       4            59  \n",
       "..          ...         ...     ...           ...  \n",
       "303         283          68       1            32  \n",
       "304         276          61       1            22  \n",
       "305         438         124       1            38  \n",
       "306         441         127       1            39  \n",
       "307         515         161       1            37  \n",
       "\n",
       "[308 rows x 8 columns]"
      ]
     },
     "execution_count": 4,
     "metadata": {},
     "output_type": "execute_result"
    }
   ],
   "source": [
    "hastag=[]\n",
    "numero_palabras=[]\n",
    "cont=0\n",
    "for i in df['contenido']:\n",
    "    cont +=1\n",
    "    if i !=i:\n",
    "        #print('pasa', cont)\n",
    "        hastag.append(0)\n",
    "        numero_palabras.append(0)\n",
    "    else:\n",
    "        cont_hastag=0\n",
    "        for caracter in i:\n",
    "            #print(caracter)\n",
    "            if caracter=='#':\n",
    "                cont_hastag+=1\n",
    "        hastag.append(cont_hastag)\n",
    "        #print('bueno')\n",
    "        numero_palabras.append(len(i.split()))\n",
    "    \n",
    "df['hastag']=hastag\n",
    "df['num_palabras']=numero_palabras\n",
    "\n",
    "# convertir formato 2.3k a 2300\n",
    "\n",
    "df['reacciones']=[convert_str_to_number(i) for i in df['reacciones']]\n",
    "df['compartido']=[convert_str_to_number(i) for i in df['compartido']]\n",
    "df['comentarios']=[convert_str_to_number(i) for i in df['comentarios']]\n",
    "df"
   ]
  },
  {
   "cell_type": "markdown",
   "id": "675c2942",
   "metadata": {},
   "source": [
    "### Creacion del Modelo Regresion \n",
    "* Obtenemos las variables de interes, en este caso el modelo sera multivariable, para valores de 'X' (comentarios, num_palabras y reacciones) y para 'Y' la salida, que seria las veces compartidas un tweet"
   ]
  },
  {
   "cell_type": "code",
   "execution_count": 5,
   "id": "56a66b28",
   "metadata": {},
   "outputs": [],
   "source": [
    "from sklearn.linear_model import LinearRegression\n",
    "\n",
    "x=df[['comentarios','num_palabras','reacciones','hastag']]\n",
    "y=df['compartido']"
   ]
  },
  {
   "cell_type": "markdown",
   "id": "41f19f63",
   "metadata": {},
   "source": [
    "* Realizamos la divsion de los datos para train y test del modelo \n",
    "* Utilizamos una regresion Lineal "
   ]
  },
  {
   "cell_type": "code",
   "execution_count": 6,
   "id": "a28004d1",
   "metadata": {},
   "outputs": [],
   "source": [
    "from sklearn.metrics import r2_score\n",
    "from sklearn.model_selection import train_test_split\n",
    "import statsmodels.api as sm \n",
    "X_train, X_test, y_train, y_test = train_test_split(x, y, test_size = 0.2, random_state=42)\n",
    "\n",
    "modelR = sm.OLS(y_train, X_train).fit()\n",
    "predict= modelR.predict(X_test)"
   ]
  },
  {
   "cell_type": "code",
   "execution_count": 7,
   "id": "1182a4c4",
   "metadata": {},
   "outputs": [
    {
     "data": {
      "text/html": [
       "<table class=\"simpletable\">\n",
       "<caption>OLS Regression Results</caption>\n",
       "<tr>\n",
       "  <th>Dep. Variable:</th>       <td>compartido</td>    <th>  R-squared (uncentered):</th>      <td>   0.930</td> \n",
       "</tr>\n",
       "<tr>\n",
       "  <th>Model:</th>                   <td>OLS</td>       <th>  Adj. R-squared (uncentered):</th> <td>   0.929</td> \n",
       "</tr>\n",
       "<tr>\n",
       "  <th>Method:</th>             <td>Least Squares</td>  <th>  F-statistic:       </th>          <td>   806.7</td> \n",
       "</tr>\n",
       "<tr>\n",
       "  <th>Date:</th>             <td>Mon, 31 May 2021</td> <th>  Prob (F-statistic):</th>          <td>1.37e-138</td>\n",
       "</tr>\n",
       "<tr>\n",
       "  <th>Time:</th>                 <td>19:28:36</td>     <th>  Log-Likelihood:    </th>          <td> -1769.0</td> \n",
       "</tr>\n",
       "<tr>\n",
       "  <th>No. Observations:</th>      <td>   246</td>      <th>  AIC:               </th>          <td>   3546.</td> \n",
       "</tr>\n",
       "<tr>\n",
       "  <th>Df Residuals:</th>          <td>   242</td>      <th>  BIC:               </th>          <td>   3560.</td> \n",
       "</tr>\n",
       "<tr>\n",
       "  <th>Df Model:</th>              <td>     4</td>      <th>                     </th>              <td> </td>    \n",
       "</tr>\n",
       "<tr>\n",
       "  <th>Covariance Type:</th>      <td>nonrobust</td>    <th>                     </th>              <td> </td>    \n",
       "</tr>\n",
       "</table>\n",
       "<table class=\"simpletable\">\n",
       "<tr>\n",
       "        <td></td>          <th>coef</th>     <th>std err</th>      <th>t</th>      <th>P>|t|</th>  <th>[0.025</th>    <th>0.975]</th>  \n",
       "</tr>\n",
       "<tr>\n",
       "  <th>comentarios</th>  <td>    1.0145</td> <td>    0.130</td> <td>    7.798</td> <td> 0.000</td> <td>    0.758</td> <td>    1.271</td>\n",
       "</tr>\n",
       "<tr>\n",
       "  <th>num_palabras</th> <td>   -1.1537</td> <td>    0.739</td> <td>   -1.561</td> <td> 0.120</td> <td>   -2.610</td> <td>    0.302</td>\n",
       "</tr>\n",
       "<tr>\n",
       "  <th>reacciones</th>   <td>    0.1260</td> <td>    0.009</td> <td>   13.436</td> <td> 0.000</td> <td>    0.107</td> <td>    0.144</td>\n",
       "</tr>\n",
       "<tr>\n",
       "  <th>hastag</th>       <td>   37.0617</td> <td>   17.531</td> <td>    2.114</td> <td> 0.036</td> <td>    2.529</td> <td>   71.595</td>\n",
       "</tr>\n",
       "</table>\n",
       "<table class=\"simpletable\">\n",
       "<tr>\n",
       "  <th>Omnibus:</th>       <td>64.882</td> <th>  Durbin-Watson:     </th> <td>   1.979</td>\n",
       "</tr>\n",
       "<tr>\n",
       "  <th>Prob(Omnibus):</th> <td> 0.000</td> <th>  Jarque-Bera (JB):  </th> <td>1557.495</td>\n",
       "</tr>\n",
       "<tr>\n",
       "  <th>Skew:</th>          <td> 0.258</td> <th>  Prob(JB):          </th> <td>    0.00</td>\n",
       "</tr>\n",
       "<tr>\n",
       "  <th>Kurtosis:</th>      <td>15.316</td> <th>  Cond. No.          </th> <td>5.12e+03</td>\n",
       "</tr>\n",
       "</table><br/><br/>Notes:<br/>[1] R² is computed without centering (uncentered) since the model does not contain a constant.<br/>[2] Standard Errors assume that the covariance matrix of the errors is correctly specified.<br/>[3] The condition number is large, 5.12e+03. This might indicate that there are<br/>strong multicollinearity or other numerical problems."
      ],
      "text/plain": [
       "<class 'statsmodels.iolib.summary.Summary'>\n",
       "\"\"\"\n",
       "                                 OLS Regression Results                                \n",
       "=======================================================================================\n",
       "Dep. Variable:             compartido   R-squared (uncentered):                   0.930\n",
       "Model:                            OLS   Adj. R-squared (uncentered):              0.929\n",
       "Method:                 Least Squares   F-statistic:                              806.7\n",
       "Date:                Mon, 31 May 2021   Prob (F-statistic):                   1.37e-138\n",
       "Time:                        19:28:36   Log-Likelihood:                         -1769.0\n",
       "No. Observations:                 246   AIC:                                      3546.\n",
       "Df Residuals:                     242   BIC:                                      3560.\n",
       "Df Model:                           4                                                  \n",
       "Covariance Type:            nonrobust                                                  \n",
       "================================================================================\n",
       "                   coef    std err          t      P>|t|      [0.025      0.975]\n",
       "--------------------------------------------------------------------------------\n",
       "comentarios      1.0145      0.130      7.798      0.000       0.758       1.271\n",
       "num_palabras    -1.1537      0.739     -1.561      0.120      -2.610       0.302\n",
       "reacciones       0.1260      0.009     13.436      0.000       0.107       0.144\n",
       "hastag          37.0617     17.531      2.114      0.036       2.529      71.595\n",
       "==============================================================================\n",
       "Omnibus:                       64.882   Durbin-Watson:                   1.979\n",
       "Prob(Omnibus):                  0.000   Jarque-Bera (JB):             1557.495\n",
       "Skew:                           0.258   Prob(JB):                         0.00\n",
       "Kurtosis:                      15.316   Cond. No.                     5.12e+03\n",
       "==============================================================================\n",
       "\n",
       "Notes:\n",
       "[1] R² is computed without centering (uncentered) since the model does not contain a constant.\n",
       "[2] Standard Errors assume that the covariance matrix of the errors is correctly specified.\n",
       "[3] The condition number is large, 5.12e+03. This might indicate that there are\n",
       "strong multicollinearity or other numerical problems.\n",
       "\"\"\""
      ]
     },
     "execution_count": 7,
     "metadata": {},
     "output_type": "execute_result"
    }
   ],
   "source": [
    "modelR.summary()"
   ]
  },
  {
   "cell_type": "markdown",
   "id": "1738f246",
   "metadata": {},
   "source": [
    "#### Creacion dataset datos predecidos\n",
    "* Dataframe con los datos de test y la prediccion arrojada por nuestro modelo \n",
    "* Para mas adelante poder "
   ]
  },
  {
   "cell_type": "code",
   "execution_count": 8,
   "id": "aa6a5243",
   "metadata": {},
   "outputs": [
    {
     "data": {
      "text/html": [
       "<div>\n",
       "<style scoped>\n",
       "    .dataframe tbody tr th:only-of-type {\n",
       "        vertical-align: middle;\n",
       "    }\n",
       "\n",
       "    .dataframe tbody tr th {\n",
       "        vertical-align: top;\n",
       "    }\n",
       "\n",
       "    .dataframe thead th {\n",
       "        text-align: right;\n",
       "    }\n",
       "</style>\n",
       "<table border=\"1\" class=\"dataframe\">\n",
       "  <thead>\n",
       "    <tr style=\"text-align: right;\">\n",
       "      <th></th>\n",
       "      <th>Actual</th>\n",
       "      <th>Prediccion</th>\n",
       "    </tr>\n",
       "  </thead>\n",
       "  <tbody>\n",
       "    <tr>\n",
       "      <th>3</th>\n",
       "      <td>115</td>\n",
       "      <td>140.931015</td>\n",
       "    </tr>\n",
       "    <tr>\n",
       "      <th>5</th>\n",
       "      <td>1800</td>\n",
       "      <td>2253.892327</td>\n",
       "    </tr>\n",
       "    <tr>\n",
       "      <th>7</th>\n",
       "      <td>152</td>\n",
       "      <td>146.556986</td>\n",
       "    </tr>\n",
       "    <tr>\n",
       "      <th>9</th>\n",
       "      <td>589</td>\n",
       "      <td>667.400340</td>\n",
       "    </tr>\n",
       "    <tr>\n",
       "      <th>17</th>\n",
       "      <td>490</td>\n",
       "      <td>422.017938</td>\n",
       "    </tr>\n",
       "    <tr>\n",
       "      <th>...</th>\n",
       "      <td>...</td>\n",
       "      <td>...</td>\n",
       "    </tr>\n",
       "    <tr>\n",
       "      <th>289</th>\n",
       "      <td>1600</td>\n",
       "      <td>2064.038549</td>\n",
       "    </tr>\n",
       "    <tr>\n",
       "      <th>294</th>\n",
       "      <td>95</td>\n",
       "      <td>37.681046</td>\n",
       "    </tr>\n",
       "    <tr>\n",
       "      <th>296</th>\n",
       "      <td>147</td>\n",
       "      <td>154.113907</td>\n",
       "    </tr>\n",
       "    <tr>\n",
       "      <th>300</th>\n",
       "      <td>152</td>\n",
       "      <td>139.851137</td>\n",
       "    </tr>\n",
       "    <tr>\n",
       "      <th>305</th>\n",
       "      <td>124</td>\n",
       "      <td>89.984513</td>\n",
       "    </tr>\n",
       "  </tbody>\n",
       "</table>\n",
       "<p>62 rows × 2 columns</p>\n",
       "</div>"
      ],
      "text/plain": [
       "     Actual   Prediccion\n",
       "3       115   140.931015\n",
       "5      1800  2253.892327\n",
       "7       152   146.556986\n",
       "9       589   667.400340\n",
       "17      490   422.017938\n",
       "..      ...          ...\n",
       "289    1600  2064.038549\n",
       "294      95    37.681046\n",
       "296     147   154.113907\n",
       "300     152   139.851137\n",
       "305     124    89.984513\n",
       "\n",
       "[62 rows x 2 columns]"
      ]
     },
     "execution_count": 8,
     "metadata": {},
     "output_type": "execute_result"
    }
   ],
   "source": [
    "result=pd.DataFrame({'Actual':y_test,'Prediccion':predict})\n",
    "result.sort_index(inplace=True)\n",
    "result"
   ]
  },
  {
   "cell_type": "code",
   "execution_count": 9,
   "id": "dbae499e",
   "metadata": {},
   "outputs": [
    {
     "data": {
      "image/png": "[encoded data removed]",
      "text/plain": [
       "<Figure size 1080x504 with 1 Axes>"
      ]
     },
     "metadata": {
      "needs_background": "light"
     },
     "output_type": "display_data"
    }
   ],
   "source": [
    "import matplotlib.pyplot as plt \n",
    "result.plot(kind='bar',figsize=(15,7))\n",
    "plt.grid(which='major', linestyle='-', linewidth='0.5', color='green')\n",
    "plt.grid(which='minor', linestyle=':', linewidth='0.5', color='black')\n",
    "plt.title('Regresion Multivariable resultados')\n",
    "plt.ylabel('Retweets')\n",
    "plt.xlabel('Variables X')\n",
    "plt.show()\n"
   ]
  },
  {
   "cell_type": "code",
   "execution_count": 10,
   "id": "03993b56",
   "metadata": {
    "scrolled": false
   },
   "outputs": [
    {
     "data": {
      "text/plain": [
       "Text(0, 0.5, 'Retweets')"
      ]
     },
     "execution_count": 10,
     "metadata": {},
     "output_type": "execute_result"
    },
    {
     "data": {
      "image/png": "[encoded data removed]",
      "text/plain": [
       "<Figure size 1080x360 with 1 Axes>"
      ]
     },
     "metadata": {
      "needs_background": "light"
     },
     "output_type": "display_data"
    }
   ],
   "source": [
    "plt.figure(figsize = (15,5))\n",
    "plt.plot(result.index, result.Actual,'o-')\n",
    "plt.plot(result.index, result.Prediccion,'*-')\n",
    "plt.legend(['Actual', 'Prediccion'])\n",
    "plt.title('Regresion Multivariable')\n",
    "plt.xlabel('Variables X')\n",
    "plt.ylabel('Retweets')"
   ]
  },
  {
   "cell_type": "markdown",
   "id": "6baf1f5a",
   "metadata": {},
   "source": [
    "### Creacion Modelo Polinomial"
   ]
  },
  {
   "cell_type": "code",
   "execution_count": 11,
   "id": "08412f0a",
   "metadata": {},
   "outputs": [],
   "source": [
    "from sklearn.preprocessing import PolynomialFeatures\n",
    "from sklearn.linear_model import LinearRegression\n",
    "\n",
    "poly_reg = PolynomialFeatures(degree=2)\n",
    "X_poly = poly_reg.fit_transform(x)\n",
    "X_train2, X_test2, y_train2, y_test2 = train_test_split(X_poly, y, test_size = 0.2, random_state=42)\n",
    "\n",
    "\n",
    "pol_reg = LinearRegression()\n",
    "pol_reg.fit(X_train2, y_train2)\n",
    "pol_pred=pol_reg.predict(X_test2)"
   ]
  },
  {
   "cell_type": "code",
   "execution_count": 12,
   "id": "d6f2e6fb",
   "metadata": {},
   "outputs": [
    {
     "data": {
      "text/html": [
       "<div>\n",
       "<style scoped>\n",
       "    .dataframe tbody tr th:only-of-type {\n",
       "        vertical-align: middle;\n",
       "    }\n",
       "\n",
       "    .dataframe tbody tr th {\n",
       "        vertical-align: top;\n",
       "    }\n",
       "\n",
       "    .dataframe thead th {\n",
       "        text-align: right;\n",
       "    }\n",
       "</style>\n",
       "<table border=\"1\" class=\"dataframe\">\n",
       "  <thead>\n",
       "    <tr style=\"text-align: right;\">\n",
       "      <th></th>\n",
       "      <th>Actual</th>\n",
       "      <th>Prediccion</th>\n",
       "    </tr>\n",
       "  </thead>\n",
       "  <tbody>\n",
       "    <tr>\n",
       "      <th>3</th>\n",
       "      <td>115</td>\n",
       "      <td>266.977014</td>\n",
       "    </tr>\n",
       "    <tr>\n",
       "      <th>5</th>\n",
       "      <td>1800</td>\n",
       "      <td>2228.460306</td>\n",
       "    </tr>\n",
       "    <tr>\n",
       "      <th>7</th>\n",
       "      <td>152</td>\n",
       "      <td>271.469641</td>\n",
       "    </tr>\n",
       "    <tr>\n",
       "      <th>9</th>\n",
       "      <td>589</td>\n",
       "      <td>645.536867</td>\n",
       "    </tr>\n",
       "    <tr>\n",
       "      <th>17</th>\n",
       "      <td>490</td>\n",
       "      <td>509.715460</td>\n",
       "    </tr>\n",
       "    <tr>\n",
       "      <th>...</th>\n",
       "      <td>...</td>\n",
       "      <td>...</td>\n",
       "    </tr>\n",
       "    <tr>\n",
       "      <th>289</th>\n",
       "      <td>1600</td>\n",
       "      <td>1996.207399</td>\n",
       "    </tr>\n",
       "    <tr>\n",
       "      <th>294</th>\n",
       "      <td>95</td>\n",
       "      <td>156.335961</td>\n",
       "    </tr>\n",
       "    <tr>\n",
       "      <th>296</th>\n",
       "      <td>147</td>\n",
       "      <td>257.390305</td>\n",
       "    </tr>\n",
       "    <tr>\n",
       "      <th>300</th>\n",
       "      <td>152</td>\n",
       "      <td>411.521624</td>\n",
       "    </tr>\n",
       "    <tr>\n",
       "      <th>305</th>\n",
       "      <td>124</td>\n",
       "      <td>205.959286</td>\n",
       "    </tr>\n",
       "  </tbody>\n",
       "</table>\n",
       "<p>62 rows × 2 columns</p>\n",
       "</div>"
      ],
      "text/plain": [
       "     Actual   Prediccion\n",
       "3       115   266.977014\n",
       "5      1800  2228.460306\n",
       "7       152   271.469641\n",
       "9       589   645.536867\n",
       "17      490   509.715460\n",
       "..      ...          ...\n",
       "289    1600  1996.207399\n",
       "294      95   156.335961\n",
       "296     147   257.390305\n",
       "300     152   411.521624\n",
       "305     124   205.959286\n",
       "\n",
       "[62 rows x 2 columns]"
      ]
     },
     "execution_count": 12,
     "metadata": {},
     "output_type": "execute_result"
    }
   ],
   "source": [
    "result2=pd.DataFrame({'Actual':y_test2,'Prediccion':pol_pred})\n",
    "result2.sort_index(inplace=True)\n",
    "result2"
   ]
  },
  {
   "cell_type": "code",
   "execution_count": 13,
   "id": "f2e771d1",
   "metadata": {},
   "outputs": [
    {
     "data": {
      "text/plain": [
       "Text(0, 0.5, 'Y test Value')"
      ]
     },
     "execution_count": 13,
     "metadata": {},
     "output_type": "execute_result"
    },
    {
     "data": {
      "image/png": "[encoded data removed]",
      "text/plain": [
       "<Figure size 1080x360 with 1 Axes>"
      ]
     },
     "metadata": {
      "needs_background": "light"
     },
     "output_type": "display_data"
    }
   ],
   "source": [
    "plt.figure(figsize = (15,5))\n",
    "plt.plot(result2.index, result2.Actual,'o-')\n",
    "plt.plot(result2.index, result2.Prediccion,'*-')\n",
    "plt.legend(['Actual', 'Prediccion'])\n",
    "plt.title('Regresion Multivariable')\n",
    "plt.xlabel('Y test index')\n",
    "plt.ylabel('Y test Value')"
   ]
  },
  {
   "cell_type": "code",
   "execution_count": 14,
   "id": "921312b6",
   "metadata": {},
   "outputs": [
    {
     "data": {
      "image/png": "[encoded data removed]",
      "text/plain": [
       "<Figure size 1080x504 with 1 Axes>"
      ]
     },
     "metadata": {
      "needs_background": "light"
     },
     "output_type": "display_data"
    }
   ],
   "source": [
    "result2.plot(kind='bar',figsize=(15,7))\n",
    "plt.grid(which='major', linestyle='-', linewidth='0.5', color='green')\n",
    "plt.grid(which='minor', linestyle=':', linewidth='0.5', color='black')\n",
    "plt.title('Regresion Multivariable resultados')\n",
    "plt.show()"
   ]
  },
  {
   "cell_type": "markdown",
   "id": "c7af7c05",
   "metadata": {},
   "source": [
    "### Prediccion de un tweet"
   ]
  },
  {
   "cell_type": "code",
   "execution_count": 15,
   "id": "e6c40ee4",
   "metadata": {},
   "outputs": [
    {
     "data": {
      "text/html": [
       "<div>\n",
       "<style scoped>\n",
       "    .dataframe tbody tr th:only-of-type {\n",
       "        vertical-align: middle;\n",
       "    }\n",
       "\n",
       "    .dataframe tbody tr th {\n",
       "        vertical-align: top;\n",
       "    }\n",
       "\n",
       "    .dataframe thead th {\n",
       "        text-align: right;\n",
       "    }\n",
       "</style>\n",
       "<table border=\"1\" class=\"dataframe\">\n",
       "  <thead>\n",
       "    <tr style=\"text-align: right;\">\n",
       "      <th></th>\n",
       "      <th>nombre</th>\n",
       "      <th>username</th>\n",
       "      <th>contenido</th>\n",
       "      <th>comentarios</th>\n",
       "      <th>reacciones</th>\n",
       "      <th>compartido</th>\n",
       "      <th>hastag</th>\n",
       "      <th>num_palabras</th>\n",
       "    </tr>\n",
       "  </thead>\n",
       "  <tbody>\n",
       "    <tr>\n",
       "      <th>4</th>\n",
       "      <td>Guillermo Lasso</td>\n",
       "      <td>@LassoGuillermo</td>\n",
       "      <td>·¡Felicidades @MorejonGlenda! Ella y más depor...</td>\n",
       "      <td>98</td>\n",
       "      <td>3800</td>\n",
       "      <td>620</td>\n",
       "      <td>4</td>\n",
       "      <td>59</td>\n",
       "    </tr>\n",
       "  </tbody>\n",
       "</table>\n",
       "</div>"
      ],
      "text/plain": [
       "            nombre         username  \\\n",
       "4  Guillermo Lasso  @LassoGuillermo   \n",
       "\n",
       "                                           contenido  comentarios  reacciones  \\\n",
       "4  ·¡Felicidades @MorejonGlenda! Ella y más depor...           98        3800   \n",
       "\n",
       "   compartido  hastag  num_palabras  \n",
       "4         620       4            59  "
      ]
     },
     "execution_count": 15,
     "metadata": {},
     "output_type": "execute_result"
    }
   ],
   "source": [
    "df.iloc [4:5, :]"
   ]
  },
  {
   "cell_type": "markdown",
   "id": "ac4b9941",
   "metadata": {},
   "source": [
    "### Regresion Lineal"
   ]
  },
  {
   "cell_type": "code",
   "execution_count": 16,
   "id": "74d4cf7a",
   "metadata": {},
   "outputs": [
    {
     "name": "stdout",
     "output_type": "stream",
     "text": [
      "Precision del modelo:  0.9377209236997971\n",
      "***( Sera compartido: 658 veces )***\n"
     ]
    }
   ],
   "source": [
    "print('Precision del modelo: ',r2_score(y_test,predict))\n",
    "print(\"***( Sera compartido: \"+str(int(modelR.predict([df.loc[4]['comentarios'],df.loc[4]['num_palabras'],\n",
    "                                                       df.loc[4]['reacciones'], df.loc[4]['hastag']])[0]))+\" veces )***\")"
   ]
  },
  {
   "cell_type": "markdown",
   "id": "0b8aada1",
   "metadata": {},
   "source": [
    "### Regresion Polinomial"
   ]
  },
  {
   "cell_type": "code",
   "execution_count": 17,
   "id": "a7248932",
   "metadata": {},
   "outputs": [
    {
     "name": "stdout",
     "output_type": "stream",
     "text": [
      "Precision del modelo:  0.8962906326525246\n",
      "***( Sera compartido: 927 veces )***\n"
     ]
    }
   ],
   "source": [
    "print('Precision del modelo: ',r2_score(y_test2,pol_pred))\n",
    "print(\"***( Sera compartido: \"+str(int(pol_reg.predict(poly_reg.fit_transform([[df.loc[4]['comentarios'],df.loc[4]['num_palabras'],\n",
    "                                                       df.loc[4]['reacciones'], df.loc[4]['hastag']]]))))+\" veces )***\")\n",
    "from sklearn.metrics import mean_squared_error\n"
   ]
  },
  {
   "cell_type": "markdown",
   "id": "74ff89cf",
   "metadata": {},
   "source": [
    "### Analisis\n",
    "* Como se puede observar, en este caso en el que la regresion es multivariable los resultados claramente es mejor para la regresion Lineal con una mejor precision en comparacion a la regresion Polinomial, se probo incluso subiendole el grado del polinomio pero se obtuvieron peores resultados."
   ]
  },
  {
   "cell_type": "code",
   "execution_count": null,
   "id": "42ac066c",
   "metadata": {},
   "outputs": [],
   "source": []
  }
 ],
 "metadata": {
  "kernelspec": {
   "display_name": "Python 3",
   "language": "python",
   "name": "python3"
  },
  "language_info": {
   "codemirror_mode": {
    "name": "ipython",
    "version": 3
   },
   "file_extension": ".py",
   "mimetype": "text/x-python",
   "name": "python",
   "nbconvert_exporter": "python",
   "pygments_lexer": "ipython3",
   "version": "3.7.9"
  }
 },
 "nbformat": 4,
 "nbformat_minor": 5
}
