{
 "cells": [
  {
   "cell_type": "code",
   "execution_count": 1,
   "id": "3506562a",
   "metadata": {
    "execution": {
     "iopub.execute_input": "2021-05-10T17:50:53.365407Z",
     "iopub.status.busy": "2021-05-10T17:50:53.365407Z",
     "iopub.status.idle": "2021-05-10T17:50:53.371389Z",
     "shell.execute_reply": "2021-05-10T17:50:53.370391Z"
    },
    "papermill": {
     "duration": 0.01693,
     "end_time": "2021-05-10T17:50:53.371389",
     "exception": false,
     "start_time": "2021-05-10T17:50:53.354459",
     "status": "completed"
    },
    "tags": [
     "parameters"
    ]
   },
   "outputs": [],
   "source": [
    "# Parameters\n",
    "fecha_inicio=''\n",
    "fecha_fin=''"
   ]
  },
  {
   "cell_type": "code",
   "execution_count": 2,
   "id": "10b4cef6",
   "metadata": {
    "execution": {
     "iopub.execute_input": "2021-05-10T17:50:53.391338Z",
     "iopub.status.busy": "2021-05-10T17:50:53.391338Z",
     "iopub.status.idle": "2021-05-10T17:50:53.402306Z",
     "shell.execute_reply": "2021-05-10T17:50:53.403304Z"
    },
    "papermill": {
     "duration": 0.023935,
     "end_time": "2021-05-10T17:50:53.403304",
     "exception": false,
     "start_time": "2021-05-10T17:50:53.379369",
     "status": "completed"
    },
    "tags": [
     "injected-parameters"
    ]
   },
   "outputs": [],
   "source": [
    "# Parameters\n",
    "fecha_inicio = \"2021-01-20\"\n",
    "fecha_fin = \"2021-03-30\"\n"
   ]
  },
  {
   "cell_type": "code",
   "execution_count": 3,
   "id": "4df00f8a",
   "metadata": {
    "execution": {
     "iopub.execute_input": "2021-05-10T17:50:53.421257Z",
     "iopub.status.busy": "2021-05-10T17:50:53.421257Z",
     "iopub.status.idle": "2021-05-10T17:50:53.984601Z",
     "shell.execute_reply": "2021-05-10T17:50:53.983571Z"
    },
    "papermill": {
     "duration": 0.573284,
     "end_time": "2021-05-10T17:50:53.984601",
     "exception": false,
     "start_time": "2021-05-10T17:50:53.411317",
     "status": "completed"
    },
    "tags": []
   },
   "outputs": [],
   "source": [
    "import pandas as pd\n",
    "import numpy\n",
    "from datetime import datetime,timedelta\n",
    "import matplotlib.pyplot as plt"
   ]
  },
  {
   "cell_type": "markdown",
   "id": "1b5819ed",
   "metadata": {
    "papermill": {
     "duration": 0.007945,
     "end_time": "2021-05-10T17:50:54.000526",
     "exception": false,
     "start_time": "2021-05-10T17:50:53.992581",
     "status": "completed"
    },
    "tags": []
   },
   "source": [
    "# Vacunas por fabricante"
   ]
  },
  {
   "cell_type": "code",
   "execution_count": 4,
   "id": "66e7208d",
   "metadata": {
    "execution": {
     "iopub.execute_input": "2021-05-10T17:50:54.024462Z",
     "iopub.status.busy": "2021-05-10T17:50:54.019475Z",
     "iopub.status.idle": "2021-05-10T17:50:54.031687Z",
     "shell.execute_reply": "2021-05-10T17:50:54.031687Z"
    },
    "papermill": {
     "duration": 0.023183,
     "end_time": "2021-05-10T17:50:54.031687",
     "exception": false,
     "start_time": "2021-05-10T17:50:54.008504",
     "status": "completed"
    },
    "tags": []
   },
   "outputs": [],
   "source": [
    "total=pd.read_csv('total_vacunas.csv')\n",
    "vacunas=pd.read_csv('vacunas.csv')\n",
    "#vacunas['arrived_at']=pd.to_datetime(vacunas['arrived_at'])\n",
    "vacunas['arrived_at']=pd.to_datetime(vacunas['arrived_at'],format='%d/%m/%Y')\n",
    "\n",
    "#total['fecha']=pd.to_datetime(total['fecha'])\n",
    "total['fecha']=pd.to_datetime(total['fecha'],format='%d/%m/%Y')"
   ]
  },
  {
   "cell_type": "code",
   "execution_count": 5,
   "id": "41297a63",
   "metadata": {
    "execution": {
     "iopub.execute_input": "2021-05-10T17:50:54.054624Z",
     "iopub.status.busy": "2021-05-10T17:50:54.053641Z",
     "iopub.status.idle": "2021-05-10T17:50:54.061604Z",
     "shell.execute_reply": "2021-05-10T17:50:54.062603Z"
    },
    "papermill": {
     "duration": 0.021943,
     "end_time": "2021-05-10T17:50:54.062603",
     "exception": false,
     "start_time": "2021-05-10T17:50:54.040660",
     "status": "completed"
    },
    "tags": []
   },
   "outputs": [
    {
     "data": {
      "text/html": [
       "<div>\n",
       "<style scoped>\n",
       "    .dataframe tbody tr th:only-of-type {\n",
       "        vertical-align: middle;\n",
       "    }\n",
       "\n",
       "    .dataframe tbody tr th {\n",
       "        vertical-align: top;\n",
       "    }\n",
       "\n",
       "    .dataframe thead th {\n",
       "        text-align: right;\n",
       "    }\n",
       "</style>\n",
       "<table border=\"1\" class=\"dataframe\">\n",
       "  <thead>\n",
       "    <tr style=\"text-align: right;\">\n",
       "      <th></th>\n",
       "      <th>vaccine</th>\n",
       "      <th>total</th>\n",
       "      <th>arrived_at</th>\n",
       "    </tr>\n",
       "  </thead>\n",
       "  <tbody>\n",
       "    <tr>\n",
       "      <th>0</th>\n",
       "      <td>Pfizer/BioNTech</td>\n",
       "      <td>8190</td>\n",
       "      <td>2021-01-20</td>\n",
       "    </tr>\n",
       "    <tr>\n",
       "      <th>1</th>\n",
       "      <td>Pfizer/BioNTech</td>\n",
       "      <td>16380</td>\n",
       "      <td>2021-02-17</td>\n",
       "    </tr>\n",
       "    <tr>\n",
       "      <th>2</th>\n",
       "      <td>Pfizer/BioNTech</td>\n",
       "      <td>17550</td>\n",
       "      <td>2021-02-24</td>\n",
       "    </tr>\n",
       "    <tr>\n",
       "      <th>3</th>\n",
       "      <td>Pfizer/BioNTech</td>\n",
       "      <td>31590</td>\n",
       "      <td>2021-03-03</td>\n",
       "    </tr>\n",
       "    <tr>\n",
       "      <th>4</th>\n",
       "      <td>Sinovac</td>\n",
       "      <td>20000</td>\n",
       "      <td>2021-03-06</td>\n",
       "    </tr>\n",
       "    <tr>\n",
       "      <th>5</th>\n",
       "      <td>Pfizer/BioNTech</td>\n",
       "      <td>73710</td>\n",
       "      <td>2021-03-10</td>\n",
       "    </tr>\n",
       "    <tr>\n",
       "      <th>6</th>\n",
       "      <td>Oxford/AstraZeneca</td>\n",
       "      <td>84000</td>\n",
       "      <td>2021-03-17</td>\n",
       "    </tr>\n",
       "    <tr>\n",
       "      <th>7</th>\n",
       "      <td>Pfizer/BioNTech</td>\n",
       "      <td>62010</td>\n",
       "      <td>2021-03-17</td>\n",
       "    </tr>\n",
       "    <tr>\n",
       "      <th>8</th>\n",
       "      <td>Pfizer/BioNTech</td>\n",
       "      <td>65520</td>\n",
       "      <td>2021-03-24</td>\n",
       "    </tr>\n",
       "  </tbody>\n",
       "</table>\n",
       "</div>"
      ],
      "text/plain": [
       "              vaccine  total arrived_at\n",
       "0     Pfizer/BioNTech   8190 2021-01-20\n",
       "1     Pfizer/BioNTech  16380 2021-02-17\n",
       "2     Pfizer/BioNTech  17550 2021-02-24\n",
       "3     Pfizer/BioNTech  31590 2021-03-03\n",
       "4             Sinovac  20000 2021-03-06\n",
       "5     Pfizer/BioNTech  73710 2021-03-10\n",
       "6  Oxford/AstraZeneca  84000 2021-03-17\n",
       "7     Pfizer/BioNTech  62010 2021-03-17\n",
       "8     Pfizer/BioNTech  65520 2021-03-24"
      ]
     },
     "execution_count": 5,
     "metadata": {},
     "output_type": "execute_result"
    }
   ],
   "source": [
    "filtrado=vacunas[(vacunas['arrived_at'] >= fecha_inicio) & (vacunas['arrived_at'] <= fecha_fin)]\n",
    "filtrado"
   ]
  },
  {
   "cell_type": "code",
   "execution_count": 6,
   "id": "feaf77b8",
   "metadata": {
    "execution": {
     "iopub.execute_input": "2021-05-10T17:50:54.090529Z",
     "iopub.status.busy": "2021-05-10T17:50:54.090529Z",
     "iopub.status.idle": "2021-05-10T17:50:54.108927Z",
     "shell.execute_reply": "2021-05-10T17:50:54.107896Z"
    },
    "papermill": {
     "duration": 0.036381,
     "end_time": "2021-05-10T17:50:54.108927",
     "exception": false,
     "start_time": "2021-05-10T17:50:54.072546",
     "status": "completed"
    },
    "tags": []
   },
   "outputs": [
    {
     "data": {
      "text/html": [
       "<div>\n",
       "<style scoped>\n",
       "    .dataframe tbody tr th:only-of-type {\n",
       "        vertical-align: middle;\n",
       "    }\n",
       "\n",
       "    .dataframe tbody tr th {\n",
       "        vertical-align: top;\n",
       "    }\n",
       "\n",
       "    .dataframe thead th {\n",
       "        text-align: right;\n",
       "    }\n",
       "</style>\n",
       "<table border=\"1\" class=\"dataframe\">\n",
       "  <thead>\n",
       "    <tr style=\"text-align: right;\">\n",
       "      <th></th>\n",
       "      <th>vaccine</th>\n",
       "      <th>total</th>\n",
       "    </tr>\n",
       "  </thead>\n",
       "  <tbody>\n",
       "    <tr>\n",
       "      <th>0</th>\n",
       "      <td>Oxford/AstraZeneca</td>\n",
       "      <td>84000</td>\n",
       "    </tr>\n",
       "    <tr>\n",
       "      <th>1</th>\n",
       "      <td>Pfizer/BioNTech</td>\n",
       "      <td>274950</td>\n",
       "    </tr>\n",
       "    <tr>\n",
       "      <th>2</th>\n",
       "      <td>Sinovac</td>\n",
       "      <td>20000</td>\n",
       "    </tr>\n",
       "  </tbody>\n",
       "</table>\n",
       "</div>"
      ],
      "text/plain": [
       "              vaccine   total\n",
       "0  Oxford/AstraZeneca   84000\n",
       "1     Pfizer/BioNTech  274950\n",
       "2             Sinovac   20000"
      ]
     },
     "execution_count": 6,
     "metadata": {},
     "output_type": "execute_result"
    }
   ],
   "source": [
    "c=filtrado.groupby(['vaccine'], as_index=False)['total'].sum()\n",
    "c"
   ]
  },
  {
   "cell_type": "code",
   "execution_count": 7,
   "id": "faab5af0",
   "metadata": {
    "execution": {
     "iopub.execute_input": "2021-05-10T17:50:54.141805Z",
     "iopub.status.busy": "2021-05-10T17:50:54.141805Z",
     "iopub.status.idle": "2021-05-10T17:50:54.218412Z",
     "shell.execute_reply": "2021-05-10T17:50:54.219442Z"
    },
    "papermill": {
     "duration": 0.100574,
     "end_time": "2021-05-10T17:50:54.219442",
     "exception": false,
     "start_time": "2021-05-10T17:50:54.118868",
     "status": "completed"
    },
    "tags": []
   },
   "outputs": [
    {
     "data": {
      "text/plain": [
       "Text(0.5, 1.0, 'Vacunas Fabricante')"
      ]
     },
     "execution_count": 7,
     "metadata": {},
     "output_type": "execute_result"
    },
    {
     "data": {
      "image/png": "[encoded data removed]",
      "text/plain": [
       "<Figure size 720x360 with 1 Axes>"
      ]
     },
     "metadata": {},
     "output_type": "display_data"
    }
   ],
   "source": [
    "plt.figure(figsize = (10,5))\n",
    "plt.pie(c['total'],labels=c['vaccine'],autopct='%.2f %%')\n",
    "plt.title('Vacunas Fabricante')"
   ]
  },
  {
   "cell_type": "markdown",
   "id": "ece24e36",
   "metadata": {
    "papermill": {
     "duration": 0.007979,
     "end_time": "2021-05-10T17:50:54.236397",
     "exception": false,
     "start_time": "2021-05-10T17:50:54.228418",
     "status": "completed"
    },
    "tags": []
   },
   "source": [
    "# Vacunas "
   ]
  },
  {
   "cell_type": "code",
   "execution_count": 8,
   "id": "76d3da47",
   "metadata": {
    "execution": {
     "iopub.execute_input": "2021-05-10T17:50:54.265286Z",
     "iopub.status.busy": "2021-05-10T17:50:54.264322Z",
     "iopub.status.idle": "2021-05-10T17:50:54.282548Z",
     "shell.execute_reply": "2021-05-10T17:50:54.282548Z"
    },
    "papermill": {
     "duration": 0.036177,
     "end_time": "2021-05-10T17:50:54.282548",
     "exception": false,
     "start_time": "2021-05-10T17:50:54.246371",
     "status": "completed"
    },
    "tags": []
   },
   "outputs": [
    {
     "data": {
      "text/html": [
       "<div>\n",
       "<style scoped>\n",
       "    .dataframe tbody tr th:only-of-type {\n",
       "        vertical-align: middle;\n",
       "    }\n",
       "\n",
       "    .dataframe tbody tr th {\n",
       "        vertical-align: top;\n",
       "    }\n",
       "\n",
       "    .dataframe thead th {\n",
       "        text-align: right;\n",
       "    }\n",
       "</style>\n",
       "<table border=\"1\" class=\"dataframe\">\n",
       "  <thead>\n",
       "    <tr style=\"text-align: right;\">\n",
       "      <th></th>\n",
       "      <th>fecha</th>\n",
       "      <th>dosis_total</th>\n",
       "      <th>primera_dosis</th>\n",
       "      <th>segunda_dosis</th>\n",
       "    </tr>\n",
       "  </thead>\n",
       "  <tbody>\n",
       "    <tr>\n",
       "      <th>0</th>\n",
       "      <td>2021-01-21</td>\n",
       "      <td>0</td>\n",
       "      <td>0</td>\n",
       "      <td>0</td>\n",
       "    </tr>\n",
       "    <tr>\n",
       "      <th>1</th>\n",
       "      <td>2021-01-22</td>\n",
       "      <td>108</td>\n",
       "      <td>108</td>\n",
       "      <td>0</td>\n",
       "    </tr>\n",
       "    <tr>\n",
       "      <th>2</th>\n",
       "      <td>2021-01-27</td>\n",
       "      <td>2982</td>\n",
       "      <td>2982</td>\n",
       "      <td>0</td>\n",
       "    </tr>\n",
       "    <tr>\n",
       "      <th>3</th>\n",
       "      <td>2021-02-04</td>\n",
       "      <td>6228</td>\n",
       "      <td>6228</td>\n",
       "      <td>0</td>\n",
       "    </tr>\n",
       "    <tr>\n",
       "      <th>4</th>\n",
       "      <td>2021-02-17</td>\n",
       "      <td>8190</td>\n",
       "      <td>6228</td>\n",
       "      <td>1962</td>\n",
       "    </tr>\n",
       "    <tr>\n",
       "      <th>5</th>\n",
       "      <td>2021-02-24</td>\n",
       "      <td>24492</td>\n",
       "      <td>20784</td>\n",
       "      <td>3708</td>\n",
       "    </tr>\n",
       "    <tr>\n",
       "      <th>6</th>\n",
       "      <td>2021-03-01</td>\n",
       "      <td>42114</td>\n",
       "      <td>35886</td>\n",
       "      <td>6228</td>\n",
       "    </tr>\n",
       "    <tr>\n",
       "      <th>7</th>\n",
       "      <td>2021-03-04</td>\n",
       "      <td>59316</td>\n",
       "      <td>53088</td>\n",
       "      <td>6228</td>\n",
       "    </tr>\n",
       "    <tr>\n",
       "      <th>8</th>\n",
       "      <td>2021-03-05</td>\n",
       "      <td>71148</td>\n",
       "      <td>64920</td>\n",
       "      <td>6228</td>\n",
       "    </tr>\n",
       "    <tr>\n",
       "      <th>9</th>\n",
       "      <td>2021-03-08</td>\n",
       "      <td>74472</td>\n",
       "      <td>68244</td>\n",
       "      <td>6228</td>\n",
       "    </tr>\n",
       "    <tr>\n",
       "      <th>10</th>\n",
       "      <td>2021-03-09</td>\n",
       "      <td>75258</td>\n",
       "      <td>69030</td>\n",
       "      <td>6228</td>\n",
       "    </tr>\n",
       "    <tr>\n",
       "      <th>11</th>\n",
       "      <td>2021-03-11</td>\n",
       "      <td>95915</td>\n",
       "      <td>89687</td>\n",
       "      <td>6228</td>\n",
       "    </tr>\n",
       "    <tr>\n",
       "      <th>12</th>\n",
       "      <td>2021-03-12</td>\n",
       "      <td>123176</td>\n",
       "      <td>116948</td>\n",
       "      <td>6228</td>\n",
       "    </tr>\n",
       "    <tr>\n",
       "      <th>13</th>\n",
       "      <td>2021-03-13</td>\n",
       "      <td>139359</td>\n",
       "      <td>119222</td>\n",
       "      <td>20137</td>\n",
       "    </tr>\n",
       "    <tr>\n",
       "      <th>14</th>\n",
       "      <td>2021-03-15</td>\n",
       "      <td>141191</td>\n",
       "      <td>121054</td>\n",
       "      <td>20137</td>\n",
       "    </tr>\n",
       "    <tr>\n",
       "      <th>15</th>\n",
       "      <td>2021-03-21</td>\n",
       "      <td>178970</td>\n",
       "      <td>140765</td>\n",
       "      <td>38205</td>\n",
       "    </tr>\n",
       "    <tr>\n",
       "      <th>16</th>\n",
       "      <td>2021-03-23</td>\n",
       "      <td>182261</td>\n",
       "      <td>143614</td>\n",
       "      <td>38647</td>\n",
       "    </tr>\n",
       "    <tr>\n",
       "      <th>17</th>\n",
       "      <td>2021-03-24</td>\n",
       "      <td>191179</td>\n",
       "      <td>152526</td>\n",
       "      <td>38653</td>\n",
       "    </tr>\n",
       "    <tr>\n",
       "      <th>18</th>\n",
       "      <td>2021-03-26</td>\n",
       "      <td>230770</td>\n",
       "      <td>172413</td>\n",
       "      <td>58357</td>\n",
       "    </tr>\n",
       "    <tr>\n",
       "      <th>19</th>\n",
       "      <td>2021-03-27</td>\n",
       "      <td>235000</td>\n",
       "      <td>174642</td>\n",
       "      <td>60358</td>\n",
       "    </tr>\n",
       "    <tr>\n",
       "      <th>20</th>\n",
       "      <td>2021-03-29</td>\n",
       "      <td>244866</td>\n",
       "      <td>182329</td>\n",
       "      <td>62537</td>\n",
       "    </tr>\n",
       "  </tbody>\n",
       "</table>\n",
       "</div>"
      ],
      "text/plain": [
       "        fecha  dosis_total  primera_dosis  segunda_dosis\n",
       "0  2021-01-21            0              0              0\n",
       "1  2021-01-22          108            108              0\n",
       "2  2021-01-27         2982           2982              0\n",
       "3  2021-02-04         6228           6228              0\n",
       "4  2021-02-17         8190           6228           1962\n",
       "5  2021-02-24        24492          20784           3708\n",
       "6  2021-03-01        42114          35886           6228\n",
       "7  2021-03-04        59316          53088           6228\n",
       "8  2021-03-05        71148          64920           6228\n",
       "9  2021-03-08        74472          68244           6228\n",
       "10 2021-03-09        75258          69030           6228\n",
       "11 2021-03-11        95915          89687           6228\n",
       "12 2021-03-12       123176         116948           6228\n",
       "13 2021-03-13       139359         119222          20137\n",
       "14 2021-03-15       141191         121054          20137\n",
       "15 2021-03-21       178970         140765          38205\n",
       "16 2021-03-23       182261         143614          38647\n",
       "17 2021-03-24       191179         152526          38653\n",
       "18 2021-03-26       230770         172413          58357\n",
       "19 2021-03-27       235000         174642          60358\n",
       "20 2021-03-29       244866         182329          62537"
      ]
     },
     "execution_count": 8,
     "metadata": {},
     "output_type": "execute_result"
    }
   ],
   "source": [
    "\n",
    "filtrado_total=total[(total['fecha'] >= fecha_inicio) & (total['fecha'] <= fecha_fin)]\n",
    "filtrado_total"
   ]
  },
  {
   "cell_type": "code",
   "execution_count": 9,
   "id": "eabe9dde",
   "metadata": {
    "execution": {
     "iopub.execute_input": "2021-05-10T17:50:54.326427Z",
     "iopub.status.busy": "2021-05-10T17:50:54.322406Z",
     "iopub.status.idle": "2021-05-10T17:50:54.455661Z",
     "shell.execute_reply": "2021-05-10T17:50:54.455661Z"
    },
    "papermill": {
     "duration": 0.16314,
     "end_time": "2021-05-10T17:50:54.455661",
     "exception": false,
     "start_time": "2021-05-10T17:50:54.292521",
     "status": "completed"
    },
    "tags": []
   },
   "outputs": [
    {
     "data": {
      "text/plain": [
       "<matplotlib.legend.Legend at 0x207fb746bc8>"
      ]
     },
     "execution_count": 9,
     "metadata": {},
     "output_type": "execute_result"
    },
    {
     "data": {
      "image/png": "[encoded data removed]",
      "text/plain": [
       "<Figure size 720x360 with 1 Axes>"
      ]
     },
     "metadata": {
      "needs_background": "light"
     },
     "output_type": "display_data"
    }
   ],
   "source": [
    "plt.figure(figsize = (10,5))\n",
    "plt.plot(filtrado_total['fecha'],filtrado_total['primera_dosis'],'.-r')\n",
    "plt.plot(filtrado_total['fecha'],filtrado_total['segunda_dosis'],'*-b')\n",
    "plt.plot(filtrado_total['fecha'], filtrado_total['dosis_total'],'o-g')\n",
    "plt.xlabel('Fecha')\n",
    "plt.ylabel('Dosis')\n",
    "plt.title('Dosis Aplicadas')\n",
    "plt.legend(['Primera Dosis', 'Segunda Dosis','Total Dosis'])\n",
    "#plt.xticks(filtrado_total.fecha[::10].tolist())"
   ]
  },
  {
   "cell_type": "markdown",
   "id": "a487af89",
   "metadata": {
    "papermill": {
     "duration": 0.016001,
     "end_time": "2021-05-10T17:50:54.485591",
     "exception": false,
     "start_time": "2021-05-10T17:50:54.469590",
     "status": "completed"
    },
    "tags": []
   },
   "source": [
    "# Vacunas mes llegada fabricante"
   ]
  },
  {
   "cell_type": "code",
   "execution_count": 10,
   "id": "bf0cbb0e",
   "metadata": {
    "execution": {
     "iopub.execute_input": "2021-05-10T17:50:54.514502Z",
     "iopub.status.busy": "2021-05-10T17:50:54.513514Z",
     "iopub.status.idle": "2021-05-10T17:50:54.519457Z",
     "shell.execute_reply": "2021-05-10T17:50:54.519457Z"
    },
    "papermill": {
     "duration": 0.02194,
     "end_time": "2021-05-10T17:50:54.519457",
     "exception": false,
     "start_time": "2021-05-10T17:50:54.497517",
     "status": "completed"
    },
    "tags": []
   },
   "outputs": [
    {
     "name": "stderr",
     "output_type": "stream",
     "text": [
      "C:\\Users\\vazqu\\anaconda3\\envs\\tesis\\lib\\site-packages\\ipykernel_launcher.py:1: SettingWithCopyWarning: \n",
      "A value is trying to be set on a copy of a slice from a DataFrame.\n",
      "Try using .loc[row_indexer,col_indexer] = value instead\n",
      "\n",
      "See the caveats in the documentation: https://pandas.pydata.org/pandas-docs/stable/user_guide/indexing.html#returning-a-view-versus-a-copy\n",
      "  \"\"\"Entry point for launching an IPython kernel.\n"
     ]
    }
   ],
   "source": [
    "filtrado['arrived_at']=filtrado['arrived_at'].astype(str).str.slice(0,7)"
   ]
  },
  {
   "cell_type": "code",
   "execution_count": 11,
   "id": "2eff5b80",
   "metadata": {
    "execution": {
     "iopub.execute_input": "2021-05-10T17:50:54.553366Z",
     "iopub.status.busy": "2021-05-10T17:50:54.548380Z",
     "iopub.status.idle": "2021-05-10T17:50:54.566331Z",
     "shell.execute_reply": "2021-05-10T17:50:54.566331Z"
    },
    "papermill": {
     "duration": 0.034906,
     "end_time": "2021-05-10T17:50:54.566331",
     "exception": false,
     "start_time": "2021-05-10T17:50:54.531425",
     "status": "completed"
    },
    "tags": []
   },
   "outputs": [
    {
     "data": {
      "text/html": [
       "<div>\n",
       "<style scoped>\n",
       "    .dataframe tbody tr th:only-of-type {\n",
       "        vertical-align: middle;\n",
       "    }\n",
       "\n",
       "    .dataframe tbody tr th {\n",
       "        vertical-align: top;\n",
       "    }\n",
       "\n",
       "    .dataframe thead th {\n",
       "        text-align: right;\n",
       "    }\n",
       "</style>\n",
       "<table border=\"1\" class=\"dataframe\">\n",
       "  <thead>\n",
       "    <tr style=\"text-align: right;\">\n",
       "      <th></th>\n",
       "      <th>vaccine</th>\n",
       "      <th>arrived_at</th>\n",
       "      <th>total</th>\n",
       "    </tr>\n",
       "  </thead>\n",
       "  <tbody>\n",
       "    <tr>\n",
       "      <th>0</th>\n",
       "      <td>Oxford/AstraZeneca</td>\n",
       "      <td>2021-03</td>\n",
       "      <td>84000</td>\n",
       "    </tr>\n",
       "    <tr>\n",
       "      <th>1</th>\n",
       "      <td>Pfizer/BioNTech</td>\n",
       "      <td>2021-01</td>\n",
       "      <td>8190</td>\n",
       "    </tr>\n",
       "    <tr>\n",
       "      <th>2</th>\n",
       "      <td>Pfizer/BioNTech</td>\n",
       "      <td>2021-02</td>\n",
       "      <td>33930</td>\n",
       "    </tr>\n",
       "    <tr>\n",
       "      <th>3</th>\n",
       "      <td>Pfizer/BioNTech</td>\n",
       "      <td>2021-03</td>\n",
       "      <td>232830</td>\n",
       "    </tr>\n",
       "    <tr>\n",
       "      <th>4</th>\n",
       "      <td>Sinovac</td>\n",
       "      <td>2021-03</td>\n",
       "      <td>20000</td>\n",
       "    </tr>\n",
       "  </tbody>\n",
       "</table>\n",
       "</div>"
      ],
      "text/plain": [
       "              vaccine arrived_at   total\n",
       "0  Oxford/AstraZeneca    2021-03   84000\n",
       "1     Pfizer/BioNTech    2021-01    8190\n",
       "2     Pfizer/BioNTech    2021-02   33930\n",
       "3     Pfizer/BioNTech    2021-03  232830\n",
       "4             Sinovac    2021-03   20000"
      ]
     },
     "execution_count": 11,
     "metadata": {},
     "output_type": "execute_result"
    }
   ],
   "source": [
    "f=filtrado.groupby(['vaccine','arrived_at']).sum()\n",
    "f.reset_index(inplace=True)\n",
    "f"
   ]
  },
  {
   "cell_type": "code",
   "execution_count": 12,
   "id": "b538ec96",
   "metadata": {
    "execution": {
     "iopub.execute_input": "2021-05-10T17:50:54.640938Z",
     "iopub.status.busy": "2021-05-10T17:50:54.629968Z",
     "iopub.status.idle": "2021-05-10T17:50:54.884275Z",
     "shell.execute_reply": "2021-05-10T17:50:54.883249Z"
    },
    "papermill": {
     "duration": 0.302948,
     "end_time": "2021-05-10T17:50:54.884275",
     "exception": false,
     "start_time": "2021-05-10T17:50:54.581327",
     "status": "completed"
    },
    "tags": []
   },
   "outputs": [
    {
     "data": {
      "image/png": "[encoded data removed]",
      "text/plain": [
       "<Figure size 432x288 with 1 Axes>"
      ]
     },
     "metadata": {
      "needs_background": "light"
     },
     "output_type": "display_data"
    },
    {
     "data": {
      "image/png": "[encoded data removed]",
      "text/plain": [
       "<Figure size 432x288 with 1 Axes>"
      ]
     },
     "metadata": {
      "needs_background": "light"
     },
     "output_type": "display_data"
    },
    {
     "data": {
      "image/png": "[encoded data removed]",
      "text/plain": [
       "<Figure size 432x288 with 1 Axes>"
      ]
     },
     "metadata": {
      "needs_background": "light"
     },
     "output_type": "display_data"
    }
   ],
   "source": [
    "colors=['orange','red','green']\n",
    "cont=0\n",
    "for i in filtrado.groupby(['vaccine'], as_index=False).mean()['vaccine']:\n",
    "    gr=f.loc[(f['vaccine'] == i)]\n",
    "    plt.bar(gr['arrived_at'],gr['total'], color=colors[cont])\n",
    "    plt.title('Fabricante'+i)\n",
    "    plt.show()\n",
    "    cont +=1"
   ]
  },
  {
   "cell_type": "code",
   "execution_count": null,
   "id": "4c2e4d05",
   "metadata": {
    "papermill": {
     "duration": 0.016986,
     "end_time": "2021-05-10T17:50:54.918187",
     "exception": false,
     "start_time": "2021-05-10T17:50:54.901201",
     "status": "completed"
    },
    "tags": []
   },
   "outputs": [],
   "source": []
  }
 ],
 "metadata": {
  "celltoolbar": "Tags",
  "kernelspec": {
   "display_name": "Python 3",
   "language": "python",
   "name": "python3"
  },
  "language_info": {
   "codemirror_mode": {
    "name": "ipython",
    "version": 3
   },
   "file_extension": ".py",
   "mimetype": "text/x-python",
   "name": "python",
   "nbconvert_exporter": "python",
   "pygments_lexer": "ipython3",
   "version": "3.7.9"
  },
  "papermill": {
   "default_parameters": {},
   "duration": 4.084993,
   "end_time": "2021-05-10T17:50:56.150488",
   "environment_variables": {},
   "exception": null,
   "input_path": "./Parametrizar.ipynb",
   "output_path": "./resultado.ipynb",
   "parameters": {
    "fecha_fin": "2021-03-30",
    "fecha_inicio": "2021-01-20"
   },
   "start_time": "2021-05-10T17:50:52.065495",
   "version": "2.3.3"
  }
 },
 "nbformat": 4,
 "nbformat_minor": 5
}
