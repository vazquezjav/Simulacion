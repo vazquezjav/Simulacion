{
 "cells": [
  {
   "cell_type": "code",
   "execution_count": 10,
   "metadata": {},
   "outputs": [],
   "source": [
    "import pandas as pd\n",
    "import numpy as np\n",
    "from sklearn.model_selection import train_test_split\n",
    "import matplotlib.pyplot as plt \n",
    "from datetime import datetime,timedelta\n",
    "from sklearn.linear_model import LinearRegression"
   ]
  },
  {
   "cell_type": "code",
   "execution_count": 11,
   "metadata": {},
   "outputs": [],
   "source": [
    "#-----------------------------------------------------------------------------------------------\n",
    "#-----------------------------------------------------------------------------------------------\n",
    "#                                          Modelo por numero de dias 01/03/2020 - 11/04/2021\n"
   ]
  },
  {
   "cell_type": "code",
   "execution_count": 85,
   "metadata": {},
   "outputs": [
    {
     "data": {
      "text/html": [
       "<div>\n",
       "<style scoped>\n",
       "    .dataframe tbody tr th:only-of-type {\n",
       "        vertical-align: middle;\n",
       "    }\n",
       "\n",
       "    .dataframe tbody tr th {\n",
       "        vertical-align: top;\n",
       "    }\n",
       "\n",
       "    .dataframe thead th {\n",
       "        text-align: right;\n",
       "    }\n",
       "</style>\n",
       "<table border=\"1\" class=\"dataframe\">\n",
       "  <thead>\n",
       "    <tr style=\"text-align: right;\">\n",
       "      <th></th>\n",
       "      <th>date</th>\n",
       "      <th>total_cases</th>\n",
       "      <th>new_cases</th>\n",
       "      <th>total_deaths</th>\n",
       "      <th>new_deaths</th>\n",
       "      <th>new_tests</th>\n",
       "      <th>total_tests</th>\n",
       "      <th>new_tests_smoothed</th>\n",
       "      <th>new_tests_smoothed_per_thousand</th>\n",
       "      <th>total_vaccinations</th>\n",
       "      <th>people_vaccinated</th>\n",
       "      <th>people_fully_vaccinated</th>\n",
       "      <th>new_vaccinations</th>\n",
       "      <th>new_vaccinations_smoothed</th>\n",
       "      <th>new_vaccinations_smoothed_per_million</th>\n",
       "    </tr>\n",
       "  </thead>\n",
       "  <tbody>\n",
       "    <tr>\n",
       "      <th>0</th>\n",
       "      <td>60</td>\n",
       "      <td>6</td>\n",
       "      <td>6</td>\n",
       "      <td>0.0</td>\n",
       "      <td>0.0</td>\n",
       "      <td>0.0</td>\n",
       "      <td>0.0</td>\n",
       "      <td>0.0</td>\n",
       "      <td>0.0</td>\n",
       "      <td>0.0</td>\n",
       "      <td>0.0</td>\n",
       "      <td>0.0</td>\n",
       "      <td>0.0</td>\n",
       "      <td>0.0</td>\n",
       "      <td>0.0</td>\n",
       "    </tr>\n",
       "    <tr>\n",
       "      <th>1</th>\n",
       "      <td>61</td>\n",
       "      <td>6</td>\n",
       "      <td>0</td>\n",
       "      <td>0.0</td>\n",
       "      <td>0.0</td>\n",
       "      <td>0.0</td>\n",
       "      <td>0.0</td>\n",
       "      <td>0.0</td>\n",
       "      <td>0.0</td>\n",
       "      <td>0.0</td>\n",
       "      <td>0.0</td>\n",
       "      <td>0.0</td>\n",
       "      <td>0.0</td>\n",
       "      <td>0.0</td>\n",
       "      <td>0.0</td>\n",
       "    </tr>\n",
       "    <tr>\n",
       "      <th>2</th>\n",
       "      <td>62</td>\n",
       "      <td>7</td>\n",
       "      <td>1</td>\n",
       "      <td>0.0</td>\n",
       "      <td>0.0</td>\n",
       "      <td>0.0</td>\n",
       "      <td>0.0</td>\n",
       "      <td>0.0</td>\n",
       "      <td>0.0</td>\n",
       "      <td>0.0</td>\n",
       "      <td>0.0</td>\n",
       "      <td>0.0</td>\n",
       "      <td>0.0</td>\n",
       "      <td>0.0</td>\n",
       "      <td>0.0</td>\n",
       "    </tr>\n",
       "    <tr>\n",
       "      <th>3</th>\n",
       "      <td>63</td>\n",
       "      <td>10</td>\n",
       "      <td>3</td>\n",
       "      <td>0.0</td>\n",
       "      <td>0.0</td>\n",
       "      <td>0.0</td>\n",
       "      <td>0.0</td>\n",
       "      <td>0.0</td>\n",
       "      <td>0.0</td>\n",
       "      <td>0.0</td>\n",
       "      <td>0.0</td>\n",
       "      <td>0.0</td>\n",
       "      <td>0.0</td>\n",
       "      <td>0.0</td>\n",
       "      <td>0.0</td>\n",
       "    </tr>\n",
       "    <tr>\n",
       "      <th>4</th>\n",
       "      <td>64</td>\n",
       "      <td>13</td>\n",
       "      <td>3</td>\n",
       "      <td>0.0</td>\n",
       "      <td>0.0</td>\n",
       "      <td>0.0</td>\n",
       "      <td>0.0</td>\n",
       "      <td>0.0</td>\n",
       "      <td>0.0</td>\n",
       "      <td>0.0</td>\n",
       "      <td>0.0</td>\n",
       "      <td>0.0</td>\n",
       "      <td>0.0</td>\n",
       "      <td>0.0</td>\n",
       "      <td>0.0</td>\n",
       "    </tr>\n",
       "    <tr>\n",
       "      <th>...</th>\n",
       "      <td>...</td>\n",
       "      <td>...</td>\n",
       "      <td>...</td>\n",
       "      <td>...</td>\n",
       "      <td>...</td>\n",
       "      <td>...</td>\n",
       "      <td>...</td>\n",
       "      <td>...</td>\n",
       "      <td>...</td>\n",
       "      <td>...</td>\n",
       "      <td>...</td>\n",
       "      <td>...</td>\n",
       "      <td>...</td>\n",
       "      <td>...</td>\n",
       "      <td>...</td>\n",
       "    </tr>\n",
       "    <tr>\n",
       "      <th>401</th>\n",
       "      <td>462</td>\n",
       "      <td>339604</td>\n",
       "      <td>1902</td>\n",
       "      <td>17057.0</td>\n",
       "      <td>53.0</td>\n",
       "      <td>0.0</td>\n",
       "      <td>0.0</td>\n",
       "      <td>0.0</td>\n",
       "      <td>0.0</td>\n",
       "      <td>0.0</td>\n",
       "      <td>0.0</td>\n",
       "      <td>0.0</td>\n",
       "      <td>0.0</td>\n",
       "      <td>12809.0</td>\n",
       "      <td>726.0</td>\n",
       "    </tr>\n",
       "    <tr>\n",
       "      <th>402</th>\n",
       "      <td>463</td>\n",
       "      <td>341619</td>\n",
       "      <td>2015</td>\n",
       "      <td>17115.0</td>\n",
       "      <td>58.0</td>\n",
       "      <td>0.0</td>\n",
       "      <td>0.0</td>\n",
       "      <td>0.0</td>\n",
       "      <td>0.0</td>\n",
       "      <td>363255.0</td>\n",
       "      <td>250631.0</td>\n",
       "      <td>112624.0</td>\n",
       "      <td>0.0</td>\n",
       "      <td>11450.0</td>\n",
       "      <td>649.0</td>\n",
       "    </tr>\n",
       "    <tr>\n",
       "      <th>403</th>\n",
       "      <td>464</td>\n",
       "      <td>342678</td>\n",
       "      <td>1059</td>\n",
       "      <td>17158.0</td>\n",
       "      <td>43.0</td>\n",
       "      <td>0.0</td>\n",
       "      <td>0.0</td>\n",
       "      <td>0.0</td>\n",
       "      <td>0.0</td>\n",
       "      <td>0.0</td>\n",
       "      <td>0.0</td>\n",
       "      <td>0.0</td>\n",
       "      <td>0.0</td>\n",
       "      <td>17323.0</td>\n",
       "      <td>982.0</td>\n",
       "    </tr>\n",
       "    <tr>\n",
       "      <th>404</th>\n",
       "      <td>465</td>\n",
       "      <td>344877</td>\n",
       "      <td>2199</td>\n",
       "      <td>17275.0</td>\n",
       "      <td>117.0</td>\n",
       "      <td>0.0</td>\n",
       "      <td>0.0</td>\n",
       "      <td>0.0</td>\n",
       "      <td>0.0</td>\n",
       "      <td>457460.0</td>\n",
       "      <td>274160.0</td>\n",
       "      <td>183300.0</td>\n",
       "      <td>0.0</td>\n",
       "      <td>23197.0</td>\n",
       "      <td>1315.0</td>\n",
       "    </tr>\n",
       "    <tr>\n",
       "      <th>405</th>\n",
       "      <td>466</td>\n",
       "      <td>346817</td>\n",
       "      <td>1940</td>\n",
       "      <td>17293.0</td>\n",
       "      <td>18.0</td>\n",
       "      <td>0.0</td>\n",
       "      <td>0.0</td>\n",
       "      <td>0.0</td>\n",
       "      <td>0.0</td>\n",
       "      <td>0.0</td>\n",
       "      <td>0.0</td>\n",
       "      <td>0.0</td>\n",
       "      <td>0.0</td>\n",
       "      <td>0.0</td>\n",
       "      <td>0.0</td>\n",
       "    </tr>\n",
       "  </tbody>\n",
       "</table>\n",
       "<p>406 rows × 15 columns</p>\n",
       "</div>"
      ],
      "text/plain": [
       "     date  total_cases  new_cases  total_deaths  new_deaths  new_tests  \\\n",
       "0      60            6          6           0.0         0.0        0.0   \n",
       "1      61            6          0           0.0         0.0        0.0   \n",
       "2      62            7          1           0.0         0.0        0.0   \n",
       "3      63           10          3           0.0         0.0        0.0   \n",
       "4      64           13          3           0.0         0.0        0.0   \n",
       "..    ...          ...        ...           ...         ...        ...   \n",
       "401   462       339604       1902       17057.0        53.0        0.0   \n",
       "402   463       341619       2015       17115.0        58.0        0.0   \n",
       "403   464       342678       1059       17158.0        43.0        0.0   \n",
       "404   465       344877       2199       17275.0       117.0        0.0   \n",
       "405   466       346817       1940       17293.0        18.0        0.0   \n",
       "\n",
       "     total_tests  new_tests_smoothed  new_tests_smoothed_per_thousand  \\\n",
       "0            0.0                 0.0                              0.0   \n",
       "1            0.0                 0.0                              0.0   \n",
       "2            0.0                 0.0                              0.0   \n",
       "3            0.0                 0.0                              0.0   \n",
       "4            0.0                 0.0                              0.0   \n",
       "..           ...                 ...                              ...   \n",
       "401          0.0                 0.0                              0.0   \n",
       "402          0.0                 0.0                              0.0   \n",
       "403          0.0                 0.0                              0.0   \n",
       "404          0.0                 0.0                              0.0   \n",
       "405          0.0                 0.0                              0.0   \n",
       "\n",
       "     total_vaccinations  people_vaccinated  people_fully_vaccinated  \\\n",
       "0                   0.0                0.0                      0.0   \n",
       "1                   0.0                0.0                      0.0   \n",
       "2                   0.0                0.0                      0.0   \n",
       "3                   0.0                0.0                      0.0   \n",
       "4                   0.0                0.0                      0.0   \n",
       "..                  ...                ...                      ...   \n",
       "401                 0.0                0.0                      0.0   \n",
       "402            363255.0           250631.0                 112624.0   \n",
       "403                 0.0                0.0                      0.0   \n",
       "404            457460.0           274160.0                 183300.0   \n",
       "405                 0.0                0.0                      0.0   \n",
       "\n",
       "     new_vaccinations  new_vaccinations_smoothed  \\\n",
       "0                 0.0                        0.0   \n",
       "1                 0.0                        0.0   \n",
       "2                 0.0                        0.0   \n",
       "3                 0.0                        0.0   \n",
       "4                 0.0                        0.0   \n",
       "..                ...                        ...   \n",
       "401               0.0                    12809.0   \n",
       "402               0.0                    11450.0   \n",
       "403               0.0                    17323.0   \n",
       "404               0.0                    23197.0   \n",
       "405               0.0                        0.0   \n",
       "\n",
       "     new_vaccinations_smoothed_per_million  \n",
       "0                                      0.0  \n",
       "1                                      0.0  \n",
       "2                                      0.0  \n",
       "3                                      0.0  \n",
       "4                                      0.0  \n",
       "..                                     ...  \n",
       "401                                  726.0  \n",
       "402                                  649.0  \n",
       "403                                  982.0  \n",
       "404                                 1315.0  \n",
       "405                                    0.0  \n",
       "\n",
       "[406 rows x 15 columns]"
      ]
     },
     "execution_count": 85,
     "metadata": {},
     "output_type": "execute_result"
    }
   ],
   "source": [
    "\n",
    "\n",
    "covidecu = pd.read_csv('../Recursos-Tareas/CovidEcuador.csv')\n",
    "covidecu = covidecu.fillna(0)\n",
    "covidecu['date']=pd.to_datetime(covidecu[\"date\"]).dt.strftime(\"%d-%m-%Y\")\n",
    "covidecu['date'] = covidecu['date'].map(lambda x : (datetime.strptime(x, \"%d-%m-%Y\") - datetime.strptime(\"01-01-2020\", \"%d-%m-%Y\")).days)\n",
    "covidecu"
   ]
  },
  {
   "cell_type": "code",
   "execution_count": 36,
   "metadata": {},
   "outputs": [
    {
     "data": {
      "text/plain": [
       "Text(0, 0.5, 'Contagios')"
      ]
     },
     "execution_count": 36,
     "metadata": {},
     "output_type": "execute_result"
    },
    {
     "data": {
      "image/png": "[encoded data removed]",
      "text/plain": [
       "<Figure size 432x288 with 1 Axes>"
      ]
     },
     "metadata": {
      "needs_background": "light"
     },
     "output_type": "display_data"
    }
   ],
   "source": [
    "plt.plot(covidecu['date'], covidecu['total_cases'], '*', markersize=8, label='')\n",
    "plt.title('Covid')  \n",
    "plt.xlabel('Dias')  \n",
    "plt.ylabel('Contagios') "
   ]
  },
  {
   "cell_type": "code",
   "execution_count": 37,
   "metadata": {},
   "outputs": [],
   "source": [
    "#Identificar variables dependientes e independites \n",
    "X3=covidecu['date'].values.reshape(-1,1)\n",
    "Y3= covidecu['total_cases'].values.reshape(-1,1)\n",
    "X_train3, X_test3,y_train3, y_test3 = train_test_split(X3, Y3, test_size=.2, random_state = 42)"
   ]
  },
  {
   "cell_type": "code",
   "execution_count": 76,
   "metadata": {},
   "outputs": [],
   "source": [
    "model3 = LinearRegression()\n",
    "model3.fit(X_test3, y_test3)\n",
    "y_pred3=model3.predict(X_test3)"
   ]
  },
  {
   "cell_type": "code",
   "execution_count": 80,
   "metadata": {},
   "outputs": [
    {
     "data": {
      "text/plain": [
       "Text(0.5, 1.0, 'Entrenamiento')"
      ]
     },
     "execution_count": 80,
     "metadata": {},
     "output_type": "execute_result"
    },
    {
     "data": {
      "image/png": "[encoded data removed]",
      "text/plain": [
       "<Figure size 432x288 with 1 Axes>"
      ]
     },
     "metadata": {
      "needs_background": "light"
     },
     "output_type": "display_data"
    }
   ],
   "source": [
    "plt.scatter(X_test3, y_test3)\n",
    "#plt.plot(y_test3, y_pred3,'*r')\n",
    "plt.xlabel('Dias')  \n",
    "plt.ylabel('Contagios') \n",
    "plt.title('Entrenamiento')"
   ]
  },
  {
   "cell_type": "code",
   "execution_count": 81,
   "metadata": {},
   "outputs": [],
   "source": [
    "#prediccion en un rango de dias\n",
    "dias=np.arange(80, 517, dtype=int)\n",
    "predecir_dias=model3.predict(dias.reshape(-1,1))"
   ]
  },
  {
   "cell_type": "code",
   "execution_count": 82,
   "metadata": {},
   "outputs": [
    {
     "data": {
      "image/png": "[encoded data removed]",
      "text/plain": [
       "<Figure size 432x288 with 1 Axes>"
      ]
     },
     "metadata": {
      "needs_background": "light"
     },
     "output_type": "display_data"
    }
   ],
   "source": [
    "plt.scatter(X_train3, y_train3)\n",
    "plt.plot(dias, predecir_dias, '-r')\n",
    "plt.xlabel('Dias')  \n",
    "plt.ylabel('Contagios') \n",
    "plt.title('Prediccion')\n",
    "plt.show() "
   ]
  },
  {
   "cell_type": "code",
   "execution_count": 116,
   "metadata": {},
   "outputs": [
    {
     "data": {
      "text/plain": [
       "array([[351943.06726651]])"
      ]
     },
     "execution_count": 116,
     "metadata": {},
     "output_type": "execute_result"
    }
   ],
   "source": [
    "#prediccion 15/04/2021\n",
    "dia=model3.predict([[513]])\n",
    "dia"
   ]
  },
  {
   "cell_type": "code",
   "execution_count": 140,
   "metadata": {},
   "outputs": [
    {
     "name": "stdout",
     "output_type": "stream",
     "text": [
      "Dia 04/11/2020 =  [[170830.48089703]] \n",
      " Dia 15/11/2020 =  [[183584.88838784]]\n"
     ]
    }
   ],
   "source": [
    "#prediccion 2 - 3 Noviembre 2020\n",
    "dia_antes=model3.predict([[300]])\n",
    "dia_despues=model3.predict([[315]])\n",
    "print(\"Dia 04/11/2020 = \",dia_antes,\"\\n Dia 15/11/2020 = \",dia_despues)"
   ]
  },
  {
   "cell_type": "code",
   "execution_count": 103,
   "metadata": {},
   "outputs": [
    {
     "data": {
      "image/png": "[encoded data removed]",
      "text/plain": [
       "<Figure size 432x288 with 1 Axes>"
      ]
     },
     "metadata": {
      "needs_background": "light"
     },
     "output_type": "display_data"
    }
   ],
   "source": [
    "#prediccion de los proximos 4 meses \n",
    "meses=np.arange(520, 640, dtype=int)\n",
    "predecir_meses=model3.predict(meses.reshape(-1,1))\n",
    "plt.plot(meses, predecir_meses, '-r')\n",
    "plt.xlabel('Dias')  \n",
    "plt.ylabel('Contagios') \n",
    "plt.title('Prediccion proximos 4 meses')\n",
    "plt.show() "
   ]
  },
  {
   "cell_type": "code",
   "execution_count": 114,
   "metadata": {},
   "outputs": [
    {
     "data": {
      "text/html": [
       "<div>\n",
       "<style scoped>\n",
       "    .dataframe tbody tr th:only-of-type {\n",
       "        vertical-align: middle;\n",
       "    }\n",
       "\n",
       "    .dataframe tbody tr th {\n",
       "        vertical-align: top;\n",
       "    }\n",
       "\n",
       "    .dataframe thead th {\n",
       "        text-align: right;\n",
       "    }\n",
       "</style>\n",
       "<table border=\"1\" class=\"dataframe\">\n",
       "  <thead>\n",
       "    <tr style=\"text-align: right;\">\n",
       "      <th></th>\n",
       "      <th>Actual</th>\n",
       "      <th>Prediccion</th>\n",
       "    </tr>\n",
       "  </thead>\n",
       "  <tbody>\n",
       "    <tr>\n",
       "      <th>0</th>\n",
       "      <td>520</td>\n",
       "      <td>357895.124096</td>\n",
       "    </tr>\n",
       "    <tr>\n",
       "      <th>1</th>\n",
       "      <td>521</td>\n",
       "      <td>358745.417928</td>\n",
       "    </tr>\n",
       "    <tr>\n",
       "      <th>2</th>\n",
       "      <td>522</td>\n",
       "      <td>359595.711761</td>\n",
       "    </tr>\n",
       "    <tr>\n",
       "      <th>3</th>\n",
       "      <td>523</td>\n",
       "      <td>360446.005594</td>\n",
       "    </tr>\n",
       "    <tr>\n",
       "      <th>4</th>\n",
       "      <td>524</td>\n",
       "      <td>361296.299426</td>\n",
       "    </tr>\n",
       "    <tr>\n",
       "      <th>...</th>\n",
       "      <td>...</td>\n",
       "      <td>...</td>\n",
       "    </tr>\n",
       "    <tr>\n",
       "      <th>115</th>\n",
       "      <td>635</td>\n",
       "      <td>455678.914858</td>\n",
       "    </tr>\n",
       "    <tr>\n",
       "      <th>116</th>\n",
       "      <td>636</td>\n",
       "      <td>456529.208691</td>\n",
       "    </tr>\n",
       "    <tr>\n",
       "      <th>117</th>\n",
       "      <td>637</td>\n",
       "      <td>457379.502524</td>\n",
       "    </tr>\n",
       "    <tr>\n",
       "      <th>118</th>\n",
       "      <td>638</td>\n",
       "      <td>458229.796357</td>\n",
       "    </tr>\n",
       "    <tr>\n",
       "      <th>119</th>\n",
       "      <td>639</td>\n",
       "      <td>459080.090189</td>\n",
       "    </tr>\n",
       "  </tbody>\n",
       "</table>\n",
       "<p>120 rows × 2 columns</p>\n",
       "</div>"
      ],
      "text/plain": [
       "     Actual     Prediccion\n",
       "0       520  357895.124096\n",
       "1       521  358745.417928\n",
       "2       522  359595.711761\n",
       "3       523  360446.005594\n",
       "4       524  361296.299426\n",
       "..      ...            ...\n",
       "115     635  455678.914858\n",
       "116     636  456529.208691\n",
       "117     637  457379.502524\n",
       "118     638  458229.796357\n",
       "119     639  459080.090189\n",
       "\n",
       "[120 rows x 2 columns]"
      ]
     },
     "execution_count": 114,
     "metadata": {},
     "output_type": "execute_result"
    }
   ],
   "source": [
    "rt2 = pd.DataFrame({'Actual': meses.flatten(), 'Prediccion': predecir_meses.flatten()})\n",
    "rt2"
   ]
  },
  {
   "cell_type": "code",
   "execution_count": 83,
   "metadata": {},
   "outputs": [],
   "source": [
    "#-------------------------------------\n",
    "#-------------------------------------\n",
    "#      Modelo Calcular numero Muertes\n"
   ]
  },
  {
   "cell_type": "code",
   "execution_count": 97,
   "metadata": {},
   "outputs": [
    {
     "data": {
      "text/plain": [
       "Text(0.5, 1.0, 'Prediccion')"
      ]
     },
     "execution_count": 97,
     "metadata": {},
     "output_type": "execute_result"
    },
    {
     "data": {
      "image/png": "[encoded data removed]",
      "text/plain": [
       "<Figure size 432x288 with 1 Axes>"
      ]
     },
     "metadata": {
      "needs_background": "light"
     },
     "output_type": "display_data"
    }
   ],
   "source": [
    "plt.plot(covidecu['date'], covidecu['new_deaths'], '-g')\n",
    "plt.xlabel('Dias')  \n",
    "plt.ylabel('Muertes') \n",
    "plt.title('Prediccion')"
   ]
  },
  {
   "cell_type": "code",
   "execution_count": 45,
   "metadata": {},
   "outputs": [
    {
     "data": {
      "text/plain": [
       "LinearRegression()"
      ]
     },
     "execution_count": 45,
     "metadata": {},
     "output_type": "execute_result"
    }
   ],
   "source": [
    "X4=covidecu['date'].values.reshape(-1,1)\n",
    "Y4=covidecu['new_deaths']\n",
    "\n",
    "X_train4, X_test4,y_train4, y_test4 = train_test_split(X4, Y4, test_size=.2, random_state = 42)\n",
    "model3 = LinearRegression()\n",
    "model3.fit(X_train4, y_train4)"
   ]
  },
  {
   "cell_type": "code",
   "execution_count": 46,
   "metadata": {},
   "outputs": [],
   "source": [
    "y_pred4=model3.predict(X_test4)\n"
   ]
  },
  {
   "cell_type": "code",
   "execution_count": 48,
   "metadata": {},
   "outputs": [
    {
     "data": {
      "image/png": "[encoded data removed]",
      "text/plain": [
       "<Figure size 432x288 with 1 Axes>"
      ]
     },
     "metadata": {
      "needs_background": "light"
     },
     "output_type": "display_data"
    }
   ],
   "source": [
    "plt.scatter(X_train4, y_train4)\n",
    "plt.plot(y_test4, y_pred4, '-r')\n",
    "plt.xlabel('Dias')  \n",
    "plt.ylabel('Muertes') \n",
    "plt.title('Prediccion')\n",
    "plt.show() "
   ]
  },
  {
   "cell_type": "code",
   "execution_count": 50,
   "metadata": {},
   "outputs": [],
   "source": [
    "######\n",
    "######\n",
    "#####                Modelo Multivariable \n",
    "####\n",
    "#### analisis variable independites fecha, test nuevos y casos nuevos"
   ]
  },
  {
   "cell_type": "code",
   "execution_count": 151,
   "metadata": {},
   "outputs": [
    {
     "data": {
      "text/html": [
       "<div>\n",
       "<style scoped>\n",
       "    .dataframe tbody tr th:only-of-type {\n",
       "        vertical-align: middle;\n",
       "    }\n",
       "\n",
       "    .dataframe tbody tr th {\n",
       "        vertical-align: top;\n",
       "    }\n",
       "\n",
       "    .dataframe thead th {\n",
       "        text-align: right;\n",
       "    }\n",
       "</style>\n",
       "<table border=\"1\" class=\"dataframe\">\n",
       "  <thead>\n",
       "    <tr style=\"text-align: right;\">\n",
       "      <th></th>\n",
       "      <th>date</th>\n",
       "      <th>total_cases</th>\n",
       "      <th>new_cases</th>\n",
       "      <th>total_deaths</th>\n",
       "      <th>new_deaths</th>\n",
       "      <th>new_tests</th>\n",
       "      <th>total_tests</th>\n",
       "      <th>new_tests_smoothed</th>\n",
       "      <th>new_tests_smoothed_per_thousand</th>\n",
       "      <th>total_vaccinations</th>\n",
       "      <th>people_vaccinated</th>\n",
       "      <th>people_fully_vaccinated</th>\n",
       "      <th>new_vaccinations</th>\n",
       "      <th>new_vaccinations_smoothed</th>\n",
       "      <th>new_vaccinations_smoothed_per_million</th>\n",
       "    </tr>\n",
       "  </thead>\n",
       "  <tbody>\n",
       "    <tr>\n",
       "      <th>0</th>\n",
       "      <td>60</td>\n",
       "      <td>6</td>\n",
       "      <td>6</td>\n",
       "      <td>0.0</td>\n",
       "      <td>0.0</td>\n",
       "      <td>0.0</td>\n",
       "      <td>0.0</td>\n",
       "      <td>0.0</td>\n",
       "      <td>0.0</td>\n",
       "      <td>0.0</td>\n",
       "      <td>0.0</td>\n",
       "      <td>0.0</td>\n",
       "      <td>0.0</td>\n",
       "      <td>0.0</td>\n",
       "      <td>0.0</td>\n",
       "    </tr>\n",
       "    <tr>\n",
       "      <th>1</th>\n",
       "      <td>61</td>\n",
       "      <td>6</td>\n",
       "      <td>0</td>\n",
       "      <td>0.0</td>\n",
       "      <td>0.0</td>\n",
       "      <td>0.0</td>\n",
       "      <td>0.0</td>\n",
       "      <td>0.0</td>\n",
       "      <td>0.0</td>\n",
       "      <td>0.0</td>\n",
       "      <td>0.0</td>\n",
       "      <td>0.0</td>\n",
       "      <td>0.0</td>\n",
       "      <td>0.0</td>\n",
       "      <td>0.0</td>\n",
       "    </tr>\n",
       "    <tr>\n",
       "      <th>2</th>\n",
       "      <td>62</td>\n",
       "      <td>7</td>\n",
       "      <td>1</td>\n",
       "      <td>0.0</td>\n",
       "      <td>0.0</td>\n",
       "      <td>0.0</td>\n",
       "      <td>0.0</td>\n",
       "      <td>0.0</td>\n",
       "      <td>0.0</td>\n",
       "      <td>0.0</td>\n",
       "      <td>0.0</td>\n",
       "      <td>0.0</td>\n",
       "      <td>0.0</td>\n",
       "      <td>0.0</td>\n",
       "      <td>0.0</td>\n",
       "    </tr>\n",
       "    <tr>\n",
       "      <th>3</th>\n",
       "      <td>63</td>\n",
       "      <td>10</td>\n",
       "      <td>3</td>\n",
       "      <td>0.0</td>\n",
       "      <td>0.0</td>\n",
       "      <td>0.0</td>\n",
       "      <td>0.0</td>\n",
       "      <td>0.0</td>\n",
       "      <td>0.0</td>\n",
       "      <td>0.0</td>\n",
       "      <td>0.0</td>\n",
       "      <td>0.0</td>\n",
       "      <td>0.0</td>\n",
       "      <td>0.0</td>\n",
       "      <td>0.0</td>\n",
       "    </tr>\n",
       "    <tr>\n",
       "      <th>4</th>\n",
       "      <td>64</td>\n",
       "      <td>13</td>\n",
       "      <td>3</td>\n",
       "      <td>0.0</td>\n",
       "      <td>0.0</td>\n",
       "      <td>0.0</td>\n",
       "      <td>0.0</td>\n",
       "      <td>0.0</td>\n",
       "      <td>0.0</td>\n",
       "      <td>0.0</td>\n",
       "      <td>0.0</td>\n",
       "      <td>0.0</td>\n",
       "      <td>0.0</td>\n",
       "      <td>0.0</td>\n",
       "      <td>0.0</td>\n",
       "    </tr>\n",
       "    <tr>\n",
       "      <th>...</th>\n",
       "      <td>...</td>\n",
       "      <td>...</td>\n",
       "      <td>...</td>\n",
       "      <td>...</td>\n",
       "      <td>...</td>\n",
       "      <td>...</td>\n",
       "      <td>...</td>\n",
       "      <td>...</td>\n",
       "      <td>...</td>\n",
       "      <td>...</td>\n",
       "      <td>...</td>\n",
       "      <td>...</td>\n",
       "      <td>...</td>\n",
       "      <td>...</td>\n",
       "      <td>...</td>\n",
       "    </tr>\n",
       "    <tr>\n",
       "      <th>401</th>\n",
       "      <td>462</td>\n",
       "      <td>339604</td>\n",
       "      <td>1902</td>\n",
       "      <td>17057.0</td>\n",
       "      <td>53.0</td>\n",
       "      <td>0.0</td>\n",
       "      <td>0.0</td>\n",
       "      <td>0.0</td>\n",
       "      <td>0.0</td>\n",
       "      <td>0.0</td>\n",
       "      <td>0.0</td>\n",
       "      <td>0.0</td>\n",
       "      <td>0.0</td>\n",
       "      <td>12809.0</td>\n",
       "      <td>726.0</td>\n",
       "    </tr>\n",
       "    <tr>\n",
       "      <th>402</th>\n",
       "      <td>463</td>\n",
       "      <td>341619</td>\n",
       "      <td>2015</td>\n",
       "      <td>17115.0</td>\n",
       "      <td>58.0</td>\n",
       "      <td>0.0</td>\n",
       "      <td>0.0</td>\n",
       "      <td>0.0</td>\n",
       "      <td>0.0</td>\n",
       "      <td>363255.0</td>\n",
       "      <td>250631.0</td>\n",
       "      <td>112624.0</td>\n",
       "      <td>0.0</td>\n",
       "      <td>11450.0</td>\n",
       "      <td>649.0</td>\n",
       "    </tr>\n",
       "    <tr>\n",
       "      <th>403</th>\n",
       "      <td>464</td>\n",
       "      <td>342678</td>\n",
       "      <td>1059</td>\n",
       "      <td>17158.0</td>\n",
       "      <td>43.0</td>\n",
       "      <td>0.0</td>\n",
       "      <td>0.0</td>\n",
       "      <td>0.0</td>\n",
       "      <td>0.0</td>\n",
       "      <td>0.0</td>\n",
       "      <td>0.0</td>\n",
       "      <td>0.0</td>\n",
       "      <td>0.0</td>\n",
       "      <td>17323.0</td>\n",
       "      <td>982.0</td>\n",
       "    </tr>\n",
       "    <tr>\n",
       "      <th>404</th>\n",
       "      <td>465</td>\n",
       "      <td>344877</td>\n",
       "      <td>2199</td>\n",
       "      <td>17275.0</td>\n",
       "      <td>117.0</td>\n",
       "      <td>0.0</td>\n",
       "      <td>0.0</td>\n",
       "      <td>0.0</td>\n",
       "      <td>0.0</td>\n",
       "      <td>457460.0</td>\n",
       "      <td>274160.0</td>\n",
       "      <td>183300.0</td>\n",
       "      <td>0.0</td>\n",
       "      <td>23197.0</td>\n",
       "      <td>1315.0</td>\n",
       "    </tr>\n",
       "    <tr>\n",
       "      <th>405</th>\n",
       "      <td>466</td>\n",
       "      <td>346817</td>\n",
       "      <td>1940</td>\n",
       "      <td>17293.0</td>\n",
       "      <td>18.0</td>\n",
       "      <td>0.0</td>\n",
       "      <td>0.0</td>\n",
       "      <td>0.0</td>\n",
       "      <td>0.0</td>\n",
       "      <td>0.0</td>\n",
       "      <td>0.0</td>\n",
       "      <td>0.0</td>\n",
       "      <td>0.0</td>\n",
       "      <td>0.0</td>\n",
       "      <td>0.0</td>\n",
       "    </tr>\n",
       "  </tbody>\n",
       "</table>\n",
       "<p>406 rows × 15 columns</p>\n",
       "</div>"
      ],
      "text/plain": [
       "     date  total_cases  new_cases  total_deaths  new_deaths  new_tests  \\\n",
       "0      60            6          6           0.0         0.0        0.0   \n",
       "1      61            6          0           0.0         0.0        0.0   \n",
       "2      62            7          1           0.0         0.0        0.0   \n",
       "3      63           10          3           0.0         0.0        0.0   \n",
       "4      64           13          3           0.0         0.0        0.0   \n",
       "..    ...          ...        ...           ...         ...        ...   \n",
       "401   462       339604       1902       17057.0        53.0        0.0   \n",
       "402   463       341619       2015       17115.0        58.0        0.0   \n",
       "403   464       342678       1059       17158.0        43.0        0.0   \n",
       "404   465       344877       2199       17275.0       117.0        0.0   \n",
       "405   466       346817       1940       17293.0        18.0        0.0   \n",
       "\n",
       "     total_tests  new_tests_smoothed  new_tests_smoothed_per_thousand  \\\n",
       "0            0.0                 0.0                              0.0   \n",
       "1            0.0                 0.0                              0.0   \n",
       "2            0.0                 0.0                              0.0   \n",
       "3            0.0                 0.0                              0.0   \n",
       "4            0.0                 0.0                              0.0   \n",
       "..           ...                 ...                              ...   \n",
       "401          0.0                 0.0                              0.0   \n",
       "402          0.0                 0.0                              0.0   \n",
       "403          0.0                 0.0                              0.0   \n",
       "404          0.0                 0.0                              0.0   \n",
       "405          0.0                 0.0                              0.0   \n",
       "\n",
       "     total_vaccinations  people_vaccinated  people_fully_vaccinated  \\\n",
       "0                   0.0                0.0                      0.0   \n",
       "1                   0.0                0.0                      0.0   \n",
       "2                   0.0                0.0                      0.0   \n",
       "3                   0.0                0.0                      0.0   \n",
       "4                   0.0                0.0                      0.0   \n",
       "..                  ...                ...                      ...   \n",
       "401                 0.0                0.0                      0.0   \n",
       "402            363255.0           250631.0                 112624.0   \n",
       "403                 0.0                0.0                      0.0   \n",
       "404            457460.0           274160.0                 183300.0   \n",
       "405                 0.0                0.0                      0.0   \n",
       "\n",
       "     new_vaccinations  new_vaccinations_smoothed  \\\n",
       "0                 0.0                        0.0   \n",
       "1                 0.0                        0.0   \n",
       "2                 0.0                        0.0   \n",
       "3                 0.0                        0.0   \n",
       "4                 0.0                        0.0   \n",
       "..                ...                        ...   \n",
       "401               0.0                    12809.0   \n",
       "402               0.0                    11450.0   \n",
       "403               0.0                    17323.0   \n",
       "404               0.0                    23197.0   \n",
       "405               0.0                        0.0   \n",
       "\n",
       "     new_vaccinations_smoothed_per_million  \n",
       "0                                      0.0  \n",
       "1                                      0.0  \n",
       "2                                      0.0  \n",
       "3                                      0.0  \n",
       "4                                      0.0  \n",
       "..                                     ...  \n",
       "401                                  726.0  \n",
       "402                                  649.0  \n",
       "403                                  982.0  \n",
       "404                                 1315.0  \n",
       "405                                    0.0  \n",
       "\n",
       "[406 rows x 15 columns]"
      ]
     },
     "execution_count": 151,
     "metadata": {},
     "output_type": "execute_result"
    }
   ],
   "source": [
    "\n",
    "df1 =covidecu\n",
    "#df1['date']=pd.to_datetime(df1[\"date\"]).dt.strftime(\"%d%m%Y\")\n",
    "#df1['date']=df1['date'].astype(int)\n",
    "df1"
   ]
  },
  {
   "cell_type": "code",
   "execution_count": 152,
   "metadata": {},
   "outputs": [],
   "source": [
    "X1 = df1[['date', 'new_cases', 'new_tests']]\n",
    "y1 = df1['total_cases']"
   ]
  },
  {
   "cell_type": "code",
   "execution_count": 153,
   "metadata": {},
   "outputs": [],
   "source": [
    "X_train1, X_test1,y_train1, y_test1 = train_test_split(X1, y1, test_size=.2, random_state = 42)"
   ]
  },
  {
   "cell_type": "code",
   "execution_count": 154,
   "metadata": {},
   "outputs": [
    {
     "data": {
      "text/plain": [
       "LinearRegression()"
      ]
     },
     "execution_count": 154,
     "metadata": {},
     "output_type": "execute_result"
    }
   ],
   "source": [
    "regressor = LinearRegression()\n",
    "regressor.fit(X_train1, y_train1)"
   ]
  },
  {
   "cell_type": "code",
   "execution_count": 162,
   "metadata": {},
   "outputs": [
    {
     "data": {
      "text/html": [
       "<div>\n",
       "<style scoped>\n",
       "    .dataframe tbody tr th:only-of-type {\n",
       "        vertical-align: middle;\n",
       "    }\n",
       "\n",
       "    .dataframe tbody tr th {\n",
       "        vertical-align: top;\n",
       "    }\n",
       "\n",
       "    .dataframe thead th {\n",
       "        text-align: right;\n",
       "    }\n",
       "</style>\n",
       "<table border=\"1\" class=\"dataframe\">\n",
       "  <thead>\n",
       "    <tr style=\"text-align: right;\">\n",
       "      <th></th>\n",
       "      <th>Actual</th>\n",
       "      <th>Prediccion</th>\n",
       "    </tr>\n",
       "  </thead>\n",
       "  <tbody>\n",
       "    <tr>\n",
       "      <th>70</th>\n",
       "      <td>29559</td>\n",
       "      <td>23528.494085</td>\n",
       "    </tr>\n",
       "    <tr>\n",
       "      <th>218</th>\n",
       "      <td>142056</td>\n",
       "      <td>150953.297997</td>\n",
       "    </tr>\n",
       "    <tr>\n",
       "      <th>258</th>\n",
       "      <td>180295</td>\n",
       "      <td>184122.264388</td>\n",
       "    </tr>\n",
       "    <tr>\n",
       "      <th>33</th>\n",
       "      <td>3368</td>\n",
       "      <td>-6100.793542</td>\n",
       "    </tr>\n",
       "    <tr>\n",
       "      <th>42</th>\n",
       "      <td>7466</td>\n",
       "      <td>1605.066639</td>\n",
       "    </tr>\n",
       "    <tr>\n",
       "      <th>...</th>\n",
       "      <td>...</td>\n",
       "      <td>...</td>\n",
       "    </tr>\n",
       "    <tr>\n",
       "      <th>90</th>\n",
       "      <td>38571</td>\n",
       "      <td>42147.059862</td>\n",
       "    </tr>\n",
       "    <tr>\n",
       "      <th>378</th>\n",
       "      <td>302498</td>\n",
       "      <td>290805.618072</td>\n",
       "    </tr>\n",
       "    <tr>\n",
       "      <th>340</th>\n",
       "      <td>255412</td>\n",
       "      <td>253130.102299</td>\n",
       "    </tr>\n",
       "    <tr>\n",
       "      <th>375</th>\n",
       "      <td>299216</td>\n",
       "      <td>283529.601715</td>\n",
       "    </tr>\n",
       "    <tr>\n",
       "      <th>356</th>\n",
       "      <td>274673</td>\n",
       "      <td>266221.487083</td>\n",
       "    </tr>\n",
       "  </tbody>\n",
       "</table>\n",
       "<p>82 rows × 2 columns</p>\n",
       "</div>"
      ],
      "text/plain": [
       "     Actual     Prediccion\n",
       "70    29559   23528.494085\n",
       "218  142056  150953.297997\n",
       "258  180295  184122.264388\n",
       "33     3368   -6100.793542\n",
       "42     7466    1605.066639\n",
       "..      ...            ...\n",
       "90    38571   42147.059862\n",
       "378  302498  290805.618072\n",
       "340  255412  253130.102299\n",
       "375  299216  283529.601715\n",
       "356  274673  266221.487083\n",
       "\n",
       "[82 rows x 2 columns]"
      ]
     },
     "execution_count": 162,
     "metadata": {},
     "output_type": "execute_result"
    }
   ],
   "source": [
    "y_pred1 = regressor.predict(X_test1)\n",
    "rt = pd.DataFrame({'Actual': y_test1, 'Prediccion': y_pred1})\n",
    "rt"
   ]
  },
  {
   "cell_type": "code",
   "execution_count": 163,
   "metadata": {},
   "outputs": [
    {
     "data": {
      "image/png": "[encoded data removed]",
      "text/plain": [
       "<Figure size 432x288 with 1 Axes>"
      ]
     },
     "metadata": {
      "needs_background": "light"
     },
     "output_type": "display_data"
    }
   ],
   "source": [
    "#import matplotlib.pyplot as plt \n",
    "plt.scatter(X_test1['date'], y_test1)\n",
    "plt.plot(X_test1['date'], y_pred1,'*r')\n",
    "plt.show()\n",
    "#X_test1['date']"
   ]
  },
  {
   "cell_type": "code",
   "execution_count": 164,
   "metadata": {},
   "outputs": [],
   "source": [
    "#######\n",
    "#######\n",
    "#######\n",
    "######             Modelo Multivariable \n",
    "###\n",
    "#    analisis fecha y nuevos test para predecir casos nuevos covid"
   ]
  },
  {
   "cell_type": "code",
   "execution_count": 165,
   "metadata": {},
   "outputs": [],
   "source": [
    "X2= df1[['date','new_tests']]\n",
    "y2=df1['new_cases'].values.reshape(-1,1)\n",
    "\n",
    "X_train2, X_test2,y_train2, y_test2 = train_test_split(X2, y2, test_size=.2, random_state = 42)"
   ]
  },
  {
   "cell_type": "code",
   "execution_count": 166,
   "metadata": {},
   "outputs": [
    {
     "name": "stdout",
     "output_type": "stream",
     "text": [
      "[209.60869208]\n",
      "[[0.29766283 0.21731888]]\n"
     ]
    }
   ],
   "source": [
    "model2 = LinearRegression()\n",
    "model2.fit(X_train2, y_train2)\n",
    "\n",
    "print(model2.intercept_)\n",
    "\n",
    "#pendiente:\n",
    "print(model2.coef_)"
   ]
  },
  {
   "cell_type": "code",
   "execution_count": 167,
   "metadata": {},
   "outputs": [],
   "source": [
    "y_pred2 = model2.predict(X_test2)"
   ]
  },
  {
   "cell_type": "code",
   "execution_count": 180,
   "metadata": {},
   "outputs": [
    {
     "data": {
      "text/html": [
       "<div>\n",
       "<style scoped>\n",
       "    .dataframe tbody tr th:only-of-type {\n",
       "        vertical-align: middle;\n",
       "    }\n",
       "\n",
       "    .dataframe tbody tr th {\n",
       "        vertical-align: top;\n",
       "    }\n",
       "\n",
       "    .dataframe thead th {\n",
       "        text-align: right;\n",
       "    }\n",
       "</style>\n",
       "<table border=\"1\" class=\"dataframe\">\n",
       "  <thead>\n",
       "    <tr style=\"text-align: right;\">\n",
       "      <th></th>\n",
       "      <th>Fecha</th>\n",
       "      <th>Test Nuevos</th>\n",
       "      <th>Prediccion</th>\n",
       "    </tr>\n",
       "  </thead>\n",
       "  <tbody>\n",
       "    <tr>\n",
       "      <th>0</th>\n",
       "      <td>130</td>\n",
       "      <td>488</td>\n",
       "      <td>642.521313</td>\n",
       "    </tr>\n",
       "    <tr>\n",
       "      <th>1</th>\n",
       "      <td>279</td>\n",
       "      <td>717</td>\n",
       "      <td>852.470063</td>\n",
       "    </tr>\n",
       "    <tr>\n",
       "      <th>2</th>\n",
       "      <td>319</td>\n",
       "      <td>668</td>\n",
       "      <td>988.031020</td>\n",
       "    </tr>\n",
       "    <tr>\n",
       "      <th>3</th>\n",
       "      <td>93</td>\n",
       "      <td>205</td>\n",
       "      <td>314.222220</td>\n",
       "    </tr>\n",
       "    <tr>\n",
       "      <th>4</th>\n",
       "      <td>102</td>\n",
       "      <td>209</td>\n",
       "      <td>323.203433</td>\n",
       "    </tr>\n",
       "    <tr>\n",
       "      <th>...</th>\n",
       "      <td>...</td>\n",
       "      <td>...</td>\n",
       "      <td>...</td>\n",
       "    </tr>\n",
       "    <tr>\n",
       "      <th>77</th>\n",
       "      <td>150</td>\n",
       "      <td>0</td>\n",
       "      <td>365.742704</td>\n",
       "    </tr>\n",
       "    <tr>\n",
       "      <th>78</th>\n",
       "      <td>439</td>\n",
       "      <td>277</td>\n",
       "      <td>566.946270</td>\n",
       "    </tr>\n",
       "    <tr>\n",
       "      <th>79</th>\n",
       "      <td>401</td>\n",
       "      <td>2073</td>\n",
       "      <td>1578.555060</td>\n",
       "    </tr>\n",
       "    <tr>\n",
       "      <th>80</th>\n",
       "      <td>436</td>\n",
       "      <td>1259</td>\n",
       "      <td>1336.448718</td>\n",
       "    </tr>\n",
       "    <tr>\n",
       "      <th>81</th>\n",
       "      <td>417</td>\n",
       "      <td>1576</td>\n",
       "      <td>1518.339320</td>\n",
       "    </tr>\n",
       "  </tbody>\n",
       "</table>\n",
       "<p>82 rows × 3 columns</p>\n",
       "</div>"
      ],
      "text/plain": [
       "    Fecha  Test Nuevos   Prediccion\n",
       "0     130          488   642.521313\n",
       "1     279          717   852.470063\n",
       "2     319          668   988.031020\n",
       "3      93          205   314.222220\n",
       "4     102          209   323.203433\n",
       "..    ...          ...          ...\n",
       "77    150            0   365.742704\n",
       "78    439          277   566.946270\n",
       "79    401         2073  1578.555060\n",
       "80    436         1259  1336.448718\n",
       "81    417         1576  1518.339320\n",
       "\n",
       "[82 rows x 3 columns]"
      ]
     },
     "execution_count": 180,
     "metadata": {},
     "output_type": "execute_result"
    }
   ],
   "source": [
    "rt2 = pd.DataFrame({'Fecha': X_test2['date'].values,'Test Nuevos': y_test2.flatten(), 'Prediccion': y_pred2.flatten()})\n",
    "rt2"
   ]
  },
  {
   "cell_type": "code",
   "execution_count": 183,
   "metadata": {},
   "outputs": [
    {
     "data": {
      "image/png": "[encoded data removed]",
      "text/plain": [
       "<Figure size 432x288 with 1 Axes>"
      ]
     },
     "metadata": {
      "needs_background": "light"
     },
     "output_type": "display_data"
    }
   ],
   "source": [
    "plt.scatter(X_test2['new_tests'].values, y_test2)\n",
    "plt.plot(X_test2['new_tests'].values, y_pred2,'*r')\n",
    "plt.xlabel('Nevos Test')  \n",
    "plt.ylabel('Casos Nuevos') \n",
    "plt.title('Prediccion Multivariable')\n",
    "plt.show() "
   ]
  },
  {
   "cell_type": "code",
   "execution_count": null,
   "metadata": {},
   "outputs": [],
   "source": []
  }
 ],
 "metadata": {
  "kernelspec": {
   "display_name": "Python 3",
   "language": "python",
   "name": "python3"
  },
  "language_info": {
   "codemirror_mode": {
    "name": "ipython",
    "version": 3
   },
   "file_extension": ".py",
   "mimetype": "text/x-python",
   "name": "python",
   "nbconvert_exporter": "python",
   "pygments_lexer": "ipython3",
   "version": "3.7.9"
  }
 },
 "nbformat": 4,
 "nbformat_minor": 4
}
